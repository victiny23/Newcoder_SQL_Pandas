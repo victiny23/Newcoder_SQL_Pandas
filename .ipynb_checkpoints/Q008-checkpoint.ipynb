{
 "cells": [
  {
   "cell_type": "code",
   "execution_count": null,
   "metadata": {},
   "outputs": [],
   "source": [
    "\"\"\"Find employees with over 15 records of salary, return the emp_no and number of records\"\"\""
   ]
  },
  {
   "cell_type": "code",
   "execution_count": null,
   "metadata": {},
   "outputs": [],
   "source": [
    "\"\"\"SQL table creation and data insertion\"\"\"\n",
    "drop table if exists  `salaries` ; \n",
    "CREATE TABLE `salaries` (\n",
    "`emp_no` int(11) NOT NULL,\n",
    "`salary` int(11) NOT NULL,\n",
    "`from_date` date NOT NULL,\n",
    "`to_date` date NOT NULL,\n",
    "PRIMARY KEY (`emp_no`,`from_date`));\n",
    "INSERT INTO salaries VALUES(10001,60117,'1986-06-26','1987-06-26');\n",
    "INSERT INTO salaries VALUES(10001,62102,'1987-06-26','1988-06-25');\n",
    "INSERT INTO salaries VALUES(10001,66074,'1988-06-25','1989-06-25');\n",
    "INSERT INTO salaries VALUES(10001,66596,'1989-06-25','1990-06-25');\n",
    "INSERT INTO salaries VALUES(10001,66961,'1990-06-25','1991-06-25');\n",
    "INSERT INTO salaries VALUES(10001,71046,'1991-06-25','1992-06-24');\n",
    "INSERT INTO salaries VALUES(10001,74333,'1992-06-24','1993-06-24');\n",
    "INSERT INTO salaries VALUES(10001,75286,'1993-06-24','1994-06-24');\n",
    "INSERT INTO salaries VALUES(10001,75994,'1994-06-24','1995-06-24');\n",
    "INSERT INTO salaries VALUES(10001,76884,'1995-06-24','1996-06-23');\n",
    "INSERT INTO salaries VALUES(10001,80013,'1996-06-23','1997-06-23');\n",
    "INSERT INTO salaries VALUES(10001,81025,'1997-06-23','1998-06-23');\n",
    "INSERT INTO salaries VALUES(10001,81097,'1998-06-23','1999-06-23');\n",
    "INSERT INTO salaries VALUES(10001,84917,'1999-06-23','2000-06-22');\n",
    "INSERT INTO salaries VALUES(10001,85112,'2000-06-22','2001-06-22');\n",
    "INSERT INTO salaries VALUES(10001,85097,'2001-06-22','2002-06-22');\n",
    "INSERT INTO salaries VALUES(10001,88958,'2002-06-22','9999-01-01');\n",
    "INSERT INTO salaries VALUES(10002,72527,'1996-08-03','1997-08-03');"
   ]
  },
  {
   "cell_type": "code",
   "execution_count": null,
   "metadata": {},
   "outputs": [],
   "source": [
    "\"\"\"SQL solution\"\"\"\n",
    "SELECT emp_no, COUNT(*) AS t\n",
    "FROM salaries\n",
    "GROUP BY emp_no\n",
    "HAVING t > 15"
   ]
  },
  {
   "cell_type": "code",
   "execution_count": 1,
   "metadata": {},
   "outputs": [
    {
     "data": {
      "text/html": [
       "<div>\n",
       "<style scoped>\n",
       "    .dataframe tbody tr th:only-of-type {\n",
       "        vertical-align: middle;\n",
       "    }\n",
       "\n",
       "    .dataframe tbody tr th {\n",
       "        vertical-align: top;\n",
       "    }\n",
       "\n",
       "    .dataframe thead th {\n",
       "        text-align: right;\n",
       "    }\n",
       "</style>\n",
       "<table border=\"1\" class=\"dataframe\">\n",
       "  <thead>\n",
       "    <tr style=\"text-align: right;\">\n",
       "      <th></th>\n",
       "      <th>emp_no</th>\n",
       "      <th>salary</th>\n",
       "      <th>from_date</th>\n",
       "      <th>to_date</th>\n",
       "    </tr>\n",
       "  </thead>\n",
       "  <tbody>\n",
       "    <tr>\n",
       "      <th>0</th>\n",
       "      <td>10001</td>\n",
       "      <td>60117</td>\n",
       "      <td>1986-06-26</td>\n",
       "      <td>1987-06-26</td>\n",
       "    </tr>\n",
       "    <tr>\n",
       "      <th>1</th>\n",
       "      <td>10001</td>\n",
       "      <td>62102</td>\n",
       "      <td>1987-06-26</td>\n",
       "      <td>1988-06-25</td>\n",
       "    </tr>\n",
       "    <tr>\n",
       "      <th>2</th>\n",
       "      <td>10001</td>\n",
       "      <td>66074</td>\n",
       "      <td>1988-06-25</td>\n",
       "      <td>1989-06-25</td>\n",
       "    </tr>\n",
       "    <tr>\n",
       "      <th>3</th>\n",
       "      <td>10001</td>\n",
       "      <td>66596</td>\n",
       "      <td>1989-06-25</td>\n",
       "      <td>1990-06-25</td>\n",
       "    </tr>\n",
       "    <tr>\n",
       "      <th>4</th>\n",
       "      <td>10001</td>\n",
       "      <td>66961</td>\n",
       "      <td>1990-06-25</td>\n",
       "      <td>1991-06-25</td>\n",
       "    </tr>\n",
       "  </tbody>\n",
       "</table>\n",
       "</div>"
      ],
      "text/plain": [
       "  emp_no salary   from_date     to_date\n",
       "0  10001  60117  1986-06-26  1987-06-26\n",
       "1  10001  62102  1987-06-26  1988-06-25\n",
       "2  10001  66074  1988-06-25  1989-06-25\n",
       "3  10001  66596  1989-06-25  1990-06-25\n",
       "4  10001  66961  1990-06-25  1991-06-25"
      ]
     },
     "execution_count": 1,
     "metadata": {},
     "output_type": "execute_result"
    }
   ],
   "source": [
    "\"\"\"Pandas dataframe creation\"\"\"\n",
    "import pandas as pd\n",
    "import numpy as np\n",
    "\n",
    "salary = np.array([[10001,60117,'1986-06-26','1987-06-26'],\n",
    "                   [10001,62102,'1987-06-26','1988-06-25'],\n",
    "                   [10001,66074,'1988-06-25','1989-06-25'],\n",
    "                   [10001,66596,'1989-06-25','1990-06-25'],\n",
    "                   [10001,66961,'1990-06-25','1991-06-25'],\n",
    "                   [10001,71046,'1991-06-25','1992-06-24'],\n",
    "                   [10001,74333,'1992-06-24','1993-06-24'],\n",
    "                   [10001,75286,'1993-06-24','1994-06-24'],\n",
    "                   [10001,75994,'1994-06-24','1995-06-24'],\n",
    "                   [10001,76884,'1995-06-24','1996-06-23'],\n",
    "                   [10001,80013,'1996-06-23','1997-06-23'],\n",
    "                   [10001,81025,'1997-06-23','1998-06-23'],\n",
    "                   [10001,81097,'1998-06-23','1999-06-23'],\n",
    "                   [10001,84917,'1999-06-23','2000-06-22'],\n",
    "                   [10001,85112,'2000-06-22','2001-06-22'],\n",
    "                   [10001,85097,'2001-06-22','2002-06-22'],\n",
    "                   [10001,88958,'2002-06-22','9999-01-01'],\n",
    "                   [10002,72527,'1996-08-03','1997-08-03']\n",
    "                  ])\n",
    "salaries = pd.DataFrame(data=salary, columns=['emp_no', 'salary', 'from_date', 'to_date'])\n",
    "salaries.head()"
   ]
  },
  {
   "cell_type": "code",
   "execution_count": 25,
   "metadata": {},
   "outputs": [
    {
     "data": {
      "text/plain": [
       "emp_no\n",
       "10001    17\n",
       "10002     1\n",
       "Name: salary, dtype: int64"
      ]
     },
     "execution_count": 25,
     "metadata": {},
     "output_type": "execute_result"
    }
   ],
   "source": [
    "sc = salaries.groupby('emp_no').count().salary\n",
    "sc"
   ]
  },
  {
   "cell_type": "code",
   "execution_count": 26,
   "metadata": {},
   "outputs": [
    {
     "data": {
      "text/plain": [
       "emp_no\n",
       "10001    17\n",
       "Name: salary, dtype: int64"
      ]
     },
     "execution_count": 26,
     "metadata": {},
     "output_type": "execute_result"
    }
   ],
   "source": [
    "sc[sc>15]"
   ]
  }
 ],
 "metadata": {
  "kernelspec": {
   "display_name": "Python 3",
   "language": "python",
   "name": "python3"
  },
  "language_info": {
   "codemirror_mode": {
    "name": "ipython",
    "version": 3
   },
   "file_extension": ".py",
   "mimetype": "text/x-python",
   "name": "python",
   "nbconvert_exporter": "python",
   "pygments_lexer": "ipython3",
   "version": "3.8.3"
  }
 },
 "nbformat": 4,
 "nbformat_minor": 4
}

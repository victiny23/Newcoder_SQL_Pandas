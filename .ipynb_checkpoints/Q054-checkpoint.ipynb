{
 "cells": [
  {
   "cell_type": "code",
   "execution_count": null,
   "metadata": {},
   "outputs": [],
   "source": [
    "\"\"\"find the average salary of current employees(to_date = '9999-01-01' ), exluding the highest and lowest salary\"\"\""
   ]
  },
  {
   "cell_type": "code",
   "execution_count": null,
   "metadata": {},
   "outputs": [],
   "source": [
    "\"\"\"SQL table creation and data insertion\"\"\"\n",
    "drop table if exists  `salaries` ; \n",
    "CREATE TABLE `salaries` (\n",
    "`emp_no` int(11) NOT NULL,\n",
    "`salary` float(11,3) NOT NULL,\n",
    "`from_date` date NOT NULL,\n",
    "`to_date` date NOT NULL,\n",
    "PRIMARY KEY (`emp_no`,`from_date`));\n",
    "\n",
    "INSERT INTO salaries VALUES(10001,85097,'2001-06-22','2002-06-22');\n",
    "INSERT INTO salaries VALUES(10001,88958,'2002-06-22','9999-01-01');\n",
    "INSERT INTO salaries VALUES(10002,72527,'2001-08-02','9999-01-01');\n",
    "INSERT INTO salaries VALUES(10003,43699,'2000-12-01','2001-12-01');\n",
    "INSERT INTO salaries VALUES(10003,43311,'2001-12-01','9999-01-01');\n",
    "INSERT INTO salaries VALUES(10004,70698,'2000-11-27','2001-11-27');\n",
    "INSERT INTO salaries VALUES(10004,74057,'2001-11-27','9999-01-01');"
   ]
  },
  {
   "cell_type": "code",
   "execution_count": null,
   "metadata": {},
   "outputs": [],
   "source": [
    "\"\"\"SQL solution\"\"\"\n",
    "# 1\n",
    "SELECT AVG(salary)\n",
    "FROM salaries\n",
    "WHERE to_date = '9999-01-01'\n",
    "AND salary NOT IN (SELECT MAX(salary) FROM salaries WHERE to_date = '9999-01-01')\n",
    "AND salary NOT IN (SELECT MIN(salary) FROM salaries WHERE to_date = '9999-01-01')\n",
    "\n",
    "# 2\n",
    "SELECT AVG(salary)\n",
    "FROM salaries\n",
    "WHERE to_date = '9999-01-01'\n",
    "AND salary != (SELECT MAX(salary) FROM salaries WHERE to_date = '9999-01-01')\n",
    "AND salary != (SELECT MIN(salary) FROM salaries WHERE to_date = '9999-01-01')\n",
    "\n",
    "# 3\n",
    "SELECT (SUM(salary) - MAX(salary) - MIN(salary))/(COUNT(1) - 2) AS average\n",
    "FROM salaries\n",
    "WHERE to_date = '9999-01-01'"
   ]
  },
  {
   "cell_type": "code",
   "execution_count": 2,
   "metadata": {},
   "outputs": [
    {
     "data": {
      "text/html": [
       "<div>\n",
       "<style scoped>\n",
       "    .dataframe tbody tr th:only-of-type {\n",
       "        vertical-align: middle;\n",
       "    }\n",
       "\n",
       "    .dataframe tbody tr th {\n",
       "        vertical-align: top;\n",
       "    }\n",
       "\n",
       "    .dataframe thead th {\n",
       "        text-align: right;\n",
       "    }\n",
       "</style>\n",
       "<table border=\"1\" class=\"dataframe\">\n",
       "  <thead>\n",
       "    <tr style=\"text-align: right;\">\n",
       "      <th></th>\n",
       "      <th>emp_no</th>\n",
       "      <th>salary</th>\n",
       "      <th>from_date</th>\n",
       "      <th>to_date</th>\n",
       "    </tr>\n",
       "  </thead>\n",
       "  <tbody>\n",
       "    <tr>\n",
       "      <th>0</th>\n",
       "      <td>INSERT INTO salaries VALUES(10001</td>\n",
       "      <td>85097</td>\n",
       "      <td>'2001-06-22'</td>\n",
       "      <td>'2002-06-22');</td>\n",
       "    </tr>\n",
       "    <tr>\n",
       "      <th>1</th>\n",
       "      <td>INSERT INTO salaries VALUES(10001</td>\n",
       "      <td>88958</td>\n",
       "      <td>'2002-06-22'</td>\n",
       "      <td>'9999-01-01');</td>\n",
       "    </tr>\n",
       "    <tr>\n",
       "      <th>2</th>\n",
       "      <td>INSERT INTO salaries VALUES(10002</td>\n",
       "      <td>72527</td>\n",
       "      <td>'2001-08-02'</td>\n",
       "      <td>'9999-01-01');</td>\n",
       "    </tr>\n",
       "    <tr>\n",
       "      <th>3</th>\n",
       "      <td>INSERT INTO salaries VALUES(10003</td>\n",
       "      <td>43699</td>\n",
       "      <td>'2000-12-01'</td>\n",
       "      <td>'2001-12-01');</td>\n",
       "    </tr>\n",
       "    <tr>\n",
       "      <th>4</th>\n",
       "      <td>INSERT INTO salaries VALUES(10003</td>\n",
       "      <td>43311</td>\n",
       "      <td>'2001-12-01'</td>\n",
       "      <td>'9999-01-01');</td>\n",
       "    </tr>\n",
       "  </tbody>\n",
       "</table>\n",
       "</div>"
      ],
      "text/plain": [
       "                              emp_no  salary     from_date         to_date\n",
       "0  INSERT INTO salaries VALUES(10001   85097  '2001-06-22'  '2002-06-22');\n",
       "1  INSERT INTO salaries VALUES(10001   88958  '2002-06-22'  '9999-01-01');\n",
       "2  INSERT INTO salaries VALUES(10002   72527  '2001-08-02'  '9999-01-01');\n",
       "3  INSERT INTO salaries VALUES(10003   43699  '2000-12-01'  '2001-12-01');\n",
       "4  INSERT INTO salaries VALUES(10003   43311  '2001-12-01'  '9999-01-01');"
      ]
     },
     "execution_count": 2,
     "metadata": {},
     "output_type": "execute_result"
    }
   ],
   "source": [
    "\"\"\"pandas dataframe creation\"\"\"\n",
    "import pandas as pd\n",
    "# read records from a txt file\n",
    "salaries = pd.read_csv('data.txt', header=None)\n",
    "salaries.columns = ['emp_no', 'salary', 'from_date', 'to_date']\n",
    "salaries.head()"
   ]
  },
  {
   "cell_type": "code",
   "execution_count": 4,
   "metadata": {},
   "outputs": [
    {
     "data": {
      "text/html": [
       "<div>\n",
       "<style scoped>\n",
       "    .dataframe tbody tr th:only-of-type {\n",
       "        vertical-align: middle;\n",
       "    }\n",
       "\n",
       "    .dataframe tbody tr th {\n",
       "        vertical-align: top;\n",
       "    }\n",
       "\n",
       "    .dataframe thead th {\n",
       "        text-align: right;\n",
       "    }\n",
       "</style>\n",
       "<table border=\"1\" class=\"dataframe\">\n",
       "  <thead>\n",
       "    <tr style=\"text-align: right;\">\n",
       "      <th></th>\n",
       "      <th>emp_no</th>\n",
       "      <th>salary</th>\n",
       "      <th>from_date</th>\n",
       "      <th>to_date</th>\n",
       "    </tr>\n",
       "  </thead>\n",
       "  <tbody>\n",
       "    <tr>\n",
       "      <th>0</th>\n",
       "      <td>10001</td>\n",
       "      <td>85097</td>\n",
       "      <td>001-06-2</td>\n",
       "      <td>2002-06-22</td>\n",
       "    </tr>\n",
       "    <tr>\n",
       "      <th>1</th>\n",
       "      <td>10001</td>\n",
       "      <td>88958</td>\n",
       "      <td>002-06-2</td>\n",
       "      <td>9999-01-01</td>\n",
       "    </tr>\n",
       "    <tr>\n",
       "      <th>2</th>\n",
       "      <td>10002</td>\n",
       "      <td>72527</td>\n",
       "      <td>001-08-0</td>\n",
       "      <td>9999-01-01</td>\n",
       "    </tr>\n",
       "    <tr>\n",
       "      <th>3</th>\n",
       "      <td>10003</td>\n",
       "      <td>43699</td>\n",
       "      <td>000-12-0</td>\n",
       "      <td>2001-12-01</td>\n",
       "    </tr>\n",
       "    <tr>\n",
       "      <th>4</th>\n",
       "      <td>10003</td>\n",
       "      <td>43311</td>\n",
       "      <td>001-12-0</td>\n",
       "      <td>9999-01-01</td>\n",
       "    </tr>\n",
       "  </tbody>\n",
       "</table>\n",
       "</div>"
      ],
      "text/plain": [
       "  emp_no  salary from_date     to_date\n",
       "0  10001   85097  001-06-2  2002-06-22\n",
       "1  10001   88958  002-06-2  9999-01-01\n",
       "2  10002   72527  001-08-0  9999-01-01\n",
       "3  10003   43699  000-12-0  2001-12-01\n",
       "4  10003   43311  001-12-0  9999-01-01"
      ]
     },
     "execution_count": 4,
     "metadata": {},
     "output_type": "execute_result"
    }
   ],
   "source": [
    "# clean the records\n",
    "salaries['emp_no'] = salaries['emp_no'].str[-5:]\n",
    "salaries['from_date'] = salaries['from_date'].str[1:-1]\n",
    "salaries['to_date'] = salaries['to_date'].str[1:-3]\n",
    "salaries.head()"
   ]
  },
  {
   "cell_type": "code",
   "execution_count": 5,
   "metadata": {},
   "outputs": [
    {
     "data": {
      "text/plain": [
       "73292.0"
      ]
     },
     "execution_count": 5,
     "metadata": {},
     "output_type": "execute_result"
    }
   ],
   "source": [
    "salaries[(salaries['to_date'] == '9999-01-01') & (salaries['salary'] != salaries['salary'].max()) & (salaries['salary'] != salaries['salary'].min())]['salary'].mean()"
   ]
  }
 ],
 "metadata": {
  "kernelspec": {
   "display_name": "Python 3",
   "language": "python",
   "name": "python3"
  },
  "language_info": {
   "codemirror_mode": {
    "name": "ipython",
    "version": 3
   },
   "file_extension": ".py",
   "mimetype": "text/x-python",
   "name": "python",
   "nbconvert_exporter": "python",
   "pygments_lexer": "ipython3",
   "version": "3.8.3"
  }
 },
 "nbformat": 4,
 "nbformat_minor": 4
}

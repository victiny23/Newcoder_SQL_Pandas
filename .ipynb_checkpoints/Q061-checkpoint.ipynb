{
 "cells": [
  {
   "cell_type": "code",
   "execution_count": null,
   "metadata": {},
   "outputs": [],
   "source": [
    "\"\"\"\n",
    "find out employees with the rank of their first_name ascending being odd, do not sort in output\n",
    "\"\"\""
   ]
  },
  {
   "cell_type": "code",
   "execution_count": null,
   "metadata": {},
   "outputs": [],
   "source": [
    "\"\"\"SQL table creation and data insertion\"\"\"\n",
    "drop table if exists  `employees` ; \n",
    "CREATE TABLE `employees` (\n",
    "  `emp_no` int(11) NOT NULL,\n",
    "  `birth_date` date NOT NULL,\n",
    "  `first_name` varchar(14) NOT NULL,\n",
    "  `last_name` varchar(16) NOT NULL,\n",
    "  `gender` char(1) NOT NULL,\n",
    "  `hire_date` date NOT NULL,\n",
    "  PRIMARY KEY (`emp_no`));\n",
    "\n",
    "INSERT INTO employees VALUES(10001,'1953-09-02','Georgi','Facello','M','1986-06-26');\n",
    "INSERT INTO employees VALUES(10002,'1964-06-02','Bezalel','Simmel','F','1985-11-21');\n",
    "INSERT INTO employees VALUES(10005,'1955-01-21','Kyoichi','Maliniak','M','1989-09-12');\n",
    "INSERT INTO employees VALUES(10006,'1953-04-20','Anneke','Preusig','F','1989-06-02');"
   ]
  },
  {
   "cell_type": "code",
   "execution_count": null,
   "metadata": {},
   "outputs": [],
   "source": [
    "\"\"\"SQL solution\"\"\"\n",
    "# 1\n",
    "SELECT a.first_name\n",
    "FROM\n",
    "(SELECT emp_no, first_name, (@r := @r + 1) AS fname_rank\n",
    "FROM (SELECT * FROM employees ORDER BY first_name) AS o, (SELECT @r := 0) AS r) AS a\n",
    "WHERE MOD(ROUND(fname_rank), 2) = 1\n",
    "ORDER BY a.emp_no\n",
    "\n",
    "# 2\n",
    "SELECT a.first_name\n",
    "FROM\n",
    "(SELECT emp_no, first_name, (@r := @r + 1) AS fname_rank\n",
    "FROM (SELECT * FROM employees ORDER BY first_name) AS o, (SELECT @r := 0) AS r) AS a\n",
    "WHERE fname_rank % 2 = 1\n",
    "ORDER BY a.emp_no\n",
    "\n",
    "# 3\n",
    "SELECT first_name\n",
    "FROM employees\n",
    "WHERE first_name IN\n",
    "(SELECT a.first_name FROM\n",
    "(SELECT emp_no, first_name, (@r := @r + 1) AS fname_rank\n",
    "FROM (SELECT * FROM employees ORDER BY first_name) AS o, (SELECT @r := 0) AS r) AS a\n",
    "WHERE fname_rank % 2 = 1)"
   ]
  },
  {
   "cell_type": "code",
   "execution_count": 1,
   "metadata": {},
   "outputs": [
    {
     "data": {
      "text/html": [
       "<div>\n",
       "<style scoped>\n",
       "    .dataframe tbody tr th:only-of-type {\n",
       "        vertical-align: middle;\n",
       "    }\n",
       "\n",
       "    .dataframe tbody tr th {\n",
       "        vertical-align: top;\n",
       "    }\n",
       "\n",
       "    .dataframe thead th {\n",
       "        text-align: right;\n",
       "    }\n",
       "</style>\n",
       "<table border=\"1\" class=\"dataframe\">\n",
       "  <thead>\n",
       "    <tr style=\"text-align: right;\">\n",
       "      <th></th>\n",
       "      <th>emp_no</th>\n",
       "      <th>birth_date</th>\n",
       "      <th>first_name</th>\n",
       "      <th>last_name</th>\n",
       "      <th>gender</th>\n",
       "      <th>hire_date</th>\n",
       "    </tr>\n",
       "  </thead>\n",
       "  <tbody>\n",
       "    <tr>\n",
       "      <th>0</th>\n",
       "      <td>10001</td>\n",
       "      <td>1953-09-02</td>\n",
       "      <td>Georgi</td>\n",
       "      <td>Facello</td>\n",
       "      <td>M</td>\n",
       "      <td>1986-06-26</td>\n",
       "    </tr>\n",
       "    <tr>\n",
       "      <th>1</th>\n",
       "      <td>10002</td>\n",
       "      <td>1964-06-02</td>\n",
       "      <td>Bezalel</td>\n",
       "      <td>Simmel</td>\n",
       "      <td>F</td>\n",
       "      <td>1985-11-21</td>\n",
       "    </tr>\n",
       "    <tr>\n",
       "      <th>2</th>\n",
       "      <td>10005</td>\n",
       "      <td>1955-01-21</td>\n",
       "      <td>Kyoichi</td>\n",
       "      <td>Maliniak</td>\n",
       "      <td>M</td>\n",
       "      <td>1989-09-12</td>\n",
       "    </tr>\n",
       "    <tr>\n",
       "      <th>3</th>\n",
       "      <td>10006</td>\n",
       "      <td>1953-04-20</td>\n",
       "      <td>Anneke</td>\n",
       "      <td>Preusig</td>\n",
       "      <td>F</td>\n",
       "      <td>1989-06-02</td>\n",
       "    </tr>\n",
       "  </tbody>\n",
       "</table>\n",
       "</div>"
      ],
      "text/plain": [
       "  emp_no  birth_date first_name last_name gender   hire_date\n",
       "0  10001  1953-09-02     Georgi   Facello      M  1986-06-26\n",
       "1  10002  1964-06-02    Bezalel    Simmel      F  1985-11-21\n",
       "2  10005  1955-01-21    Kyoichi  Maliniak      M  1989-09-12\n",
       "3  10006  1953-04-20     Anneke   Preusig      F  1989-06-02"
      ]
     },
     "execution_count": 1,
     "metadata": {},
     "output_type": "execute_result"
    }
   ],
   "source": [
    "\"\"\"pandas dataframe creation\"\"\"\n",
    "import pandas as pd\n",
    "import numpy as np\n",
    "\n",
    "t_emp = np.array([[10001,'1953-09-02','Georgi','Facello','M','1986-06-26'],\n",
    "                  [10002,'1964-06-02','Bezalel','Simmel','F','1985-11-21'],\n",
    "                  [10005,'1955-01-21','Kyoichi','Maliniak','M','1989-09-12'],\n",
    "                  [10006,'1953-04-20','Anneke','Preusig','F','1989-06-02']])\n",
    "employees = pd.DataFrame(data=t_emp, columns=['emp_no', 'birth_date', 'first_name', 'last_name', 'gender', 'hire_date'])\n",
    "employees.head()"
   ]
  },
  {
   "cell_type": "code",
   "execution_count": 6,
   "metadata": {},
   "outputs": [
    {
     "data": {
      "text/html": [
       "<div>\n",
       "<style scoped>\n",
       "    .dataframe tbody tr th:only-of-type {\n",
       "        vertical-align: middle;\n",
       "    }\n",
       "\n",
       "    .dataframe tbody tr th {\n",
       "        vertical-align: top;\n",
       "    }\n",
       "\n",
       "    .dataframe thead th {\n",
       "        text-align: right;\n",
       "    }\n",
       "</style>\n",
       "<table border=\"1\" class=\"dataframe\">\n",
       "  <thead>\n",
       "    <tr style=\"text-align: right;\">\n",
       "      <th></th>\n",
       "      <th>first_name</th>\n",
       "    </tr>\n",
       "  </thead>\n",
       "  <tbody>\n",
       "    <tr>\n",
       "      <th>0</th>\n",
       "      <td>Georgi</td>\n",
       "    </tr>\n",
       "    <tr>\n",
       "      <th>3</th>\n",
       "      <td>Anneke</td>\n",
       "    </tr>\n",
       "  </tbody>\n",
       "</table>\n",
       "</div>"
      ],
      "text/plain": [
       "  first_name\n",
       "0     Georgi\n",
       "3     Anneke"
      ]
     },
     "execution_count": 6,
     "metadata": {},
     "output_type": "execute_result"
    }
   ],
   "source": [
    "employees['fn_rank'] = employees['first_name'].rank().astype('int')\n",
    "pd.DataFrame(employees.loc[employees['fn_rank']%2 == 1, 'first_name'], columns=['first_name'])"
   ]
  }
 ],
 "metadata": {
  "kernelspec": {
   "display_name": "Python 3",
   "language": "python",
   "name": "python3"
  },
  "language_info": {
   "codemirror_mode": {
    "name": "ipython",
    "version": 3
   },
   "file_extension": ".py",
   "mimetype": "text/x-python",
   "name": "python",
   "nbconvert_exporter": "python",
   "pygments_lexer": "ipython3",
   "version": "3.8.3"
  }
 },
 "nbformat": 4,
 "nbformat_minor": 4
}

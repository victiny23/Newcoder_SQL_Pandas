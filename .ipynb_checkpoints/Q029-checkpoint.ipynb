{
 "cells": [
  {
   "cell_type": "code",
   "execution_count": null,
   "metadata": {},
   "outputs": [],
   "source": [
    "\"\"\"Find id and title of films without a category\"\"\""
   ]
  },
  {
   "cell_type": "code",
   "execution_count": null,
   "metadata": {},
   "outputs": [],
   "source": [
    "\"\"\"SQL table creation and data insertion\"\"\"\n",
    "drop table if exists  film ;\n",
    "drop table if exists  category  ; \n",
    "drop table if exists  film_category  ; \n",
    "\n",
    "CREATE TABLE IF NOT EXISTS film (\n",
    "  film_id smallint(5)  NOT NULL DEFAULT '0',\n",
    "  title varchar(255) NOT NULL,\n",
    "  description text,\n",
    "  PRIMARY KEY (film_id));\n",
    "\n",
    "CREATE TABLE category  (\n",
    "   category_id  tinyint(3)  NOT NULL ,\n",
    "   name  varchar(25) NOT NULL, `last_update` timestamp,\n",
    "  PRIMARY KEY ( category_id ));\n",
    "\n",
    "CREATE TABLE film_category  (\n",
    "   film_id  smallint(5)  NOT NULL,\n",
    "   category_id  tinyint(3)  NOT NULL, `last_update` timestamp);\n",
    "\n",
    "INSERT INTO film VALUES(1,'ACADEMY DINOSAUR','A Epic Drama of a Feminist And a Mad Scientist who must Battle a Teacher in The Canadian Rockies');\n",
    "INSERT INTO film VALUES(2,'ACE GOLDFINGER','A Astounding Epistle of a Database Administrator And a Explorer who must Find a Car in Ancient China');\n",
    "INSERT INTO film VALUES(3,'ADAPTATION HOLES','A Astounding Reflection of a Lumberjack And a Car who must Sink a Lumberjack in A Baloon Factory');\n",
    "\n",
    "INSERT INTO category VALUES(1,'Action','2006-02-14 20:46:27');\n",
    "INSERT INTO category VALUES(2,'Animation','2006-02-14 20:46:27');\n",
    "INSERT INTO category VALUES(3,'Children','2006-02-14 20:46:27');\n",
    "INSERT INTO category VALUES(4,'Classics','2006-02-14 20:46:27');\n",
    "INSERT INTO category VALUES(5,'Comedy','2006-02-14 20:46:27');\n",
    "INSERT INTO category VALUES(6,'Documentary','2006-02-14 20:46:27');\n",
    "INSERT INTO category VALUES(7,'Drama','2006-02-14 20:46:27');\n",
    "INSERT INTO category VALUES(8,'Family','2006-02-14 20:46:27');\n",
    "INSERT INTO category VALUES(9,'Foreign','2006-02-14 20:46:27');\n",
    "INSERT INTO category VALUES(10,'Games','2006-02-14 20:46:27');\n",
    "INSERT INTO category VALUES(11,'Horror','2006-02-14 20:46:27');\n",
    "\n",
    "INSERT INTO film_category VALUES(1,6,'2006-02-14 21:07:09');\n",
    "INSERT INTO film_category VALUES(2,11,'2006-02-14 21:07:09');"
   ]
  },
  {
   "cell_type": "code",
   "execution_count": null,
   "metadata": {},
   "outputs": [],
   "source": [
    "\"\"\"SQL solution\"\"\"\n",
    "# 1\n",
    "SELECT f.film_id, f.title\n",
    "FROM film AS f\n",
    "LEFT JOIN film_category AS fc\n",
    "ON f.film_id = fc.film_id\n",
    "WHERE fc.category_id IS NULL\n",
    "\n",
    "# 2\n",
    "SELECT film_id, title\n",
    "FROM film\n",
    "WHERE film_id NOT IN (SELECT film_id FROM film_category)"
   ]
  },
  {
   "cell_type": "code",
   "execution_count": 1,
   "metadata": {},
   "outputs": [
    {
     "data": {
      "text/html": [
       "<div>\n",
       "<style scoped>\n",
       "    .dataframe tbody tr th:only-of-type {\n",
       "        vertical-align: middle;\n",
       "    }\n",
       "\n",
       "    .dataframe tbody tr th {\n",
       "        vertical-align: top;\n",
       "    }\n",
       "\n",
       "    .dataframe thead th {\n",
       "        text-align: right;\n",
       "    }\n",
       "</style>\n",
       "<table border=\"1\" class=\"dataframe\">\n",
       "  <thead>\n",
       "    <tr style=\"text-align: right;\">\n",
       "      <th></th>\n",
       "      <th>film_id</th>\n",
       "      <th>title</th>\n",
       "      <th>description</th>\n",
       "    </tr>\n",
       "  </thead>\n",
       "  <tbody>\n",
       "    <tr>\n",
       "      <th>0</th>\n",
       "      <td>1</td>\n",
       "      <td>ACADEMY DINOSAUR</td>\n",
       "      <td>A Epic Drama of a Feminist And a Mad Scientist...</td>\n",
       "    </tr>\n",
       "    <tr>\n",
       "      <th>1</th>\n",
       "      <td>2</td>\n",
       "      <td>ACE GOLDFINGER</td>\n",
       "      <td>A Astounding Epistle of a Database Administrat...</td>\n",
       "    </tr>\n",
       "    <tr>\n",
       "      <th>2</th>\n",
       "      <td>3</td>\n",
       "      <td>ADAPTATION HOLES</td>\n",
       "      <td>A Astounding Reflection of a Lumberjack And a ...</td>\n",
       "    </tr>\n",
       "  </tbody>\n",
       "</table>\n",
       "</div>"
      ],
      "text/plain": [
       "  film_id             title                                        description\n",
       "0       1  ACADEMY DINOSAUR  A Epic Drama of a Feminist And a Mad Scientist...\n",
       "1       2    ACE GOLDFINGER  A Astounding Epistle of a Database Administrat...\n",
       "2       3  ADAPTATION HOLES  A Astounding Reflection of a Lumberjack And a ..."
      ]
     },
     "execution_count": 1,
     "metadata": {},
     "output_type": "execute_result"
    }
   ],
   "source": [
    "\"\"\"pandas dataframe creation\"\"\"\n",
    "import numpy as np\n",
    "import pandas as pd\n",
    "\n",
    "tf = np.array([[1,'ACADEMY DINOSAUR','A Epic Drama of a Feminist And a Mad Scientist who must Battle a Teacher in The Canadian Rockies'],\n",
    "               [2,'ACE GOLDFINGER','A Astounding Epistle of a Database Administrator And a Explorer who must Find a Car in Ancient China'],\n",
    "               [3,'ADAPTATION HOLES','A Astounding Reflection of a Lumberjack And a Car who must Sink a Lumberjack in A Baloon Factory']])\n",
    "tfc = np.array([[1,6,'2006-02-14 21:07:09'],\n",
    "                [2,11,'2006-02-14 21:07:09']])\n",
    "film = pd.DataFrame(data=tf, columns=['film_id', 'title', 'description'])\n",
    "film_category = pd.DataFrame(data=tfc, columns=['film_id', 'category_id', 'last_update'])\n",
    "film.head()"
   ]
  },
  {
   "cell_type": "code",
   "execution_count": 10,
   "metadata": {},
   "outputs": [
    {
     "data": {
      "text/html": [
       "<div>\n",
       "<style scoped>\n",
       "    .dataframe tbody tr th:only-of-type {\n",
       "        vertical-align: middle;\n",
       "    }\n",
       "\n",
       "    .dataframe tbody tr th {\n",
       "        vertical-align: top;\n",
       "    }\n",
       "\n",
       "    .dataframe thead th {\n",
       "        text-align: right;\n",
       "    }\n",
       "</style>\n",
       "<table border=\"1\" class=\"dataframe\">\n",
       "  <thead>\n",
       "    <tr style=\"text-align: right;\">\n",
       "      <th></th>\n",
       "      <th>film_id</th>\n",
       "      <th>category_id</th>\n",
       "      <th>last_update</th>\n",
       "    </tr>\n",
       "  </thead>\n",
       "  <tbody>\n",
       "    <tr>\n",
       "      <th>0</th>\n",
       "      <td>1</td>\n",
       "      <td>6</td>\n",
       "      <td>2006-02-14 21:07:09</td>\n",
       "    </tr>\n",
       "    <tr>\n",
       "      <th>1</th>\n",
       "      <td>2</td>\n",
       "      <td>11</td>\n",
       "      <td>2006-02-14 21:07:09</td>\n",
       "    </tr>\n",
       "  </tbody>\n",
       "</table>\n",
       "</div>"
      ],
      "text/plain": [
       "  film_id  category_id          last_update\n",
       "0       1            6  2006-02-14 21:07:09\n",
       "1       2           11  2006-02-14 21:07:09"
      ]
     },
     "execution_count": 10,
     "metadata": {},
     "output_type": "execute_result"
    }
   ],
   "source": [
    "film_category['category_id'] = film_category['category_id'].astype('int')\n",
    "film_category.head()"
   ]
  },
  {
   "cell_type": "code",
   "execution_count": 8,
   "metadata": {},
   "outputs": [
    {
     "data": {
      "text/plain": [
       "film_id        object\n",
       "category_id    object\n",
       "last_update    object\n",
       "dtype: object"
      ]
     },
     "execution_count": 8,
     "metadata": {},
     "output_type": "execute_result"
    }
   ],
   "source": [
    "film_category.dtypes"
   ]
  },
  {
   "cell_type": "code",
   "execution_count": 3,
   "metadata": {},
   "outputs": [
    {
     "data": {
      "text/html": [
       "<div>\n",
       "<style scoped>\n",
       "    .dataframe tbody tr th:only-of-type {\n",
       "        vertical-align: middle;\n",
       "    }\n",
       "\n",
       "    .dataframe tbody tr th {\n",
       "        vertical-align: top;\n",
       "    }\n",
       "\n",
       "    .dataframe thead th {\n",
       "        text-align: right;\n",
       "    }\n",
       "</style>\n",
       "<table border=\"1\" class=\"dataframe\">\n",
       "  <thead>\n",
       "    <tr style=\"text-align: right;\">\n",
       "      <th></th>\n",
       "      <th>category_id</th>\n",
       "      <th>name</th>\n",
       "      <th>last_update</th>\n",
       "    </tr>\n",
       "  </thead>\n",
       "  <tbody>\n",
       "    <tr>\n",
       "      <th>0</th>\n",
       "      <td>1</td>\n",
       "      <td>Action</td>\n",
       "      <td>2006-02-14 20:46:27</td>\n",
       "    </tr>\n",
       "    <tr>\n",
       "      <th>1</th>\n",
       "      <td>2</td>\n",
       "      <td>Animation</td>\n",
       "      <td>2006-02-14 20:46:27</td>\n",
       "    </tr>\n",
       "    <tr>\n",
       "      <th>2</th>\n",
       "      <td>3</td>\n",
       "      <td>Children</td>\n",
       "      <td>2006-02-14 20:46:27</td>\n",
       "    </tr>\n",
       "    <tr>\n",
       "      <th>3</th>\n",
       "      <td>4</td>\n",
       "      <td>Classics</td>\n",
       "      <td>2006-02-14 20:46:27</td>\n",
       "    </tr>\n",
       "    <tr>\n",
       "      <th>4</th>\n",
       "      <td>5</td>\n",
       "      <td>Comedy</td>\n",
       "      <td>2006-02-14 20:46:27</td>\n",
       "    </tr>\n",
       "  </tbody>\n",
       "</table>\n",
       "</div>"
      ],
      "text/plain": [
       "   category_id       name          last_update\n",
       "0            1     Action  2006-02-14 20:46:27\n",
       "1            2  Animation  2006-02-14 20:46:27\n",
       "2            3   Children  2006-02-14 20:46:27\n",
       "3            4   Classics  2006-02-14 20:46:27\n",
       "4            5     Comedy  2006-02-14 20:46:27"
      ]
     },
     "execution_count": 3,
     "metadata": {},
     "output_type": "execute_result"
    }
   ],
   "source": [
    "# in order to process a large table\n",
    "# copy and paaste the SQL code for table creation and data insertion into data.txt\n",
    "category = pd.read_csv('data.txt', sep=\",\", header=None)\n",
    "category.columns = ['category_id', 'name', 'last_update']\n",
    "for i in range(len(category)):\n",
    "    category.iloc[i, 0] = category.iloc[i, 0][28:]\n",
    "    category.iloc[i, 1] = category.iloc[i, 1][1:-1]\n",
    "    category.iloc[i, -1] = category.iloc[i, -1][1:-3]\n",
    "category['category_id'] = category['category_id'].astype('int')\n",
    "category.head()"
   ]
  },
  {
   "cell_type": "code",
   "execution_count": 27,
   "metadata": {},
   "outputs": [
    {
     "data": {
      "text/html": [
       "<div>\n",
       "<style scoped>\n",
       "    .dataframe tbody tr th:only-of-type {\n",
       "        vertical-align: middle;\n",
       "    }\n",
       "\n",
       "    .dataframe tbody tr th {\n",
       "        vertical-align: top;\n",
       "    }\n",
       "\n",
       "    .dataframe thead th {\n",
       "        text-align: right;\n",
       "    }\n",
       "</style>\n",
       "<table border=\"1\" class=\"dataframe\">\n",
       "  <thead>\n",
       "    <tr style=\"text-align: right;\">\n",
       "      <th></th>\n",
       "      <th>film_id</th>\n",
       "      <th>title</th>\n",
       "    </tr>\n",
       "  </thead>\n",
       "  <tbody>\n",
       "    <tr>\n",
       "      <th>2</th>\n",
       "      <td>3</td>\n",
       "      <td>ADAPTATION HOLES</td>\n",
       "    </tr>\n",
       "  </tbody>\n",
       "</table>\n",
       "</div>"
      ],
      "text/plain": [
       "  film_id             title\n",
       "2       3  ADAPTATION HOLES"
      ]
     },
     "execution_count": 27,
     "metadata": {},
     "output_type": "execute_result"
    }
   ],
   "source": [
    "\"\"\"\n",
    "To detect NaN:\n",
    "np.isnan() for numpy array\n",
    ".isna() or .isnull() for pd.dataframe, these two do exactly the same thing\n",
    "\"\"\"\n",
    "df = pd.merge(film_category[['film_id', 'category_id']], film[['film_id', 'title']], on='film_id', how='outer')\n",
    "df[df['category_id'].isna()][['film_id', 'title']]"
   ]
  },
  {
   "cell_type": "code",
   "execution_count": 26,
   "metadata": {},
   "outputs": [
    {
     "data": {
      "text/html": [
       "<div>\n",
       "<style scoped>\n",
       "    .dataframe tbody tr th:only-of-type {\n",
       "        vertical-align: middle;\n",
       "    }\n",
       "\n",
       "    .dataframe tbody tr th {\n",
       "        vertical-align: top;\n",
       "    }\n",
       "\n",
       "    .dataframe thead th {\n",
       "        text-align: right;\n",
       "    }\n",
       "</style>\n",
       "<table border=\"1\" class=\"dataframe\">\n",
       "  <thead>\n",
       "    <tr style=\"text-align: right;\">\n",
       "      <th></th>\n",
       "      <th>film_id</th>\n",
       "      <th>title</th>\n",
       "    </tr>\n",
       "  </thead>\n",
       "  <tbody>\n",
       "    <tr>\n",
       "      <th>2</th>\n",
       "      <td>3</td>\n",
       "      <td>ADAPTATION HOLES</td>\n",
       "    </tr>\n",
       "  </tbody>\n",
       "</table>\n",
       "</div>"
      ],
      "text/plain": [
       "  film_id             title\n",
       "2       3  ADAPTATION HOLES"
      ]
     },
     "execution_count": 26,
     "metadata": {},
     "output_type": "execute_result"
    }
   ],
   "source": [
    "df[df['category_id'].isnull()][['film_id', 'title']]"
   ]
  }
 ],
 "metadata": {
  "kernelspec": {
   "display_name": "Python 3",
   "language": "python",
   "name": "python3"
  },
  "language_info": {
   "codemirror_mode": {
    "name": "ipython",
    "version": 3
   },
   "file_extension": ".py",
   "mimetype": "text/x-python",
   "name": "python",
   "nbconvert_exporter": "python",
   "pygments_lexer": "ipython3",
   "version": "3.8.3"
  }
 },
 "nbformat": 4,
 "nbformat_minor": 4
}

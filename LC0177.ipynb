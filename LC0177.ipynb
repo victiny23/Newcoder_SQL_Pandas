{
 "cells": [
  {
   "cell_type": "code",
   "execution_count": null,
   "metadata": {},
   "outputs": [],
   "source": [
    "\"\"\"\n",
    "Nth Highest Salary\n",
    "\n",
    "Write a SQL query to get the nth highest salary from the Employee table.\n",
    "If there is no nth highest salary, then the query should return null.\n",
    "\n",
    "Extended problem from LC0176\n",
    "\"\"\""
   ]
  },
  {
   "cell_type": "code",
   "execution_count": null,
   "metadata": {},
   "outputs": [],
   "source": [
    "\"\"\"testcase\"\"\"\n",
    "{\"headers\": {\"Employee\": [\"Id\", \"Salary\"]}, \"argument\": 2, \"rows\": {\"Employee\": [[1, 100], [2, 100], [3, 50], [4, 50]]}}"
   ]
  },
  {
   "cell_type": "code",
   "execution_count": null,
   "metadata": {},
   "outputs": [],
   "source": [
    "\"\"\"SQL table creation and data insertion\"\"\"\n",
    "DROP TABLE IF EXISTS Employee;\n",
    "\n",
    "CREATE TABLE Employee(\n",
    "Id  int(4) NOT NULL,\n",
    "Salary int(8) NOT NULL\n",
    "PRIMARY KEY ('Id'));\n",
    "\n",
    "INSERT INTO Person VALUES\n",
    "(1, 100),\n",
    "(2, 100),\n",
    "(3, 50),\n",
    "(4, 50);"
   ]
  },
  {
   "cell_type": "code",
   "execution_count": null,
   "metadata": {},
   "outputs": [],
   "source": [
    "\"\"\"SQL solution\"\"\"\n",
    "CREATE FUNCTION getNthHighestSalary(N INT) RETURNS INT\n",
    "BEGIN\n",
    "  RETURN (\n",
    "      # Write your MySQL query statement below.\n",
    "      SELECT\n",
    "      (SELECT Salary\n",
    "      FROM\n",
    "      (SELECT Salary, DENSE_RANK() OVER(ORDER BY Salary DESC) AS r\n",
    "      FROM Employee) AS f\n",
    "      WHERE f.r = N\n",
    "      LIMIT 1) AS NthHighestSalary\n",
    "  );\n",
    "END\n",
    "\n",
    "CREATE FUNCTION getNthHighestSalary(N INT) RETURNS INT\n",
    "BEGIN\n",
    "  RETURN (\n",
    "      # Write your MySQL query statement below.\n",
    "      SELECT DISTINCT Salary\n",
    "      FROM\n",
    "      (SELECT Salary, DENSE_RANK() OVER(ORDER BY Salary DESC) AS r\n",
    "      FROM Employee) AS f\n",
    "      WHERE f.r = N\n",
    "  );\n",
    "END\n",
    "\n",
    "# in function the default return is null, no need to handle null like in LC0176"
   ]
  },
  {
   "cell_type": "code",
   "execution_count": 1,
   "metadata": {},
   "outputs": [
    {
     "data": {
      "text/html": [
       "<div>\n",
       "<style scoped>\n",
       "    .dataframe tbody tr th:only-of-type {\n",
       "        vertical-align: middle;\n",
       "    }\n",
       "\n",
       "    .dataframe tbody tr th {\n",
       "        vertical-align: top;\n",
       "    }\n",
       "\n",
       "    .dataframe thead th {\n",
       "        text-align: right;\n",
       "    }\n",
       "</style>\n",
       "<table border=\"1\" class=\"dataframe\">\n",
       "  <thead>\n",
       "    <tr style=\"text-align: right;\">\n",
       "      <th></th>\n",
       "      <th>Id</th>\n",
       "      <th>Salary</th>\n",
       "    </tr>\n",
       "  </thead>\n",
       "  <tbody>\n",
       "    <tr>\n",
       "      <th>0</th>\n",
       "      <td>1</td>\n",
       "      <td>100</td>\n",
       "    </tr>\n",
       "    <tr>\n",
       "      <th>1</th>\n",
       "      <td>2</td>\n",
       "      <td>100</td>\n",
       "    </tr>\n",
       "    <tr>\n",
       "      <th>2</th>\n",
       "      <td>3</td>\n",
       "      <td>50</td>\n",
       "    </tr>\n",
       "    <tr>\n",
       "      <th>3</th>\n",
       "      <td>4</td>\n",
       "      <td>50</td>\n",
       "    </tr>\n",
       "  </tbody>\n",
       "</table>\n",
       "</div>"
      ],
      "text/plain": [
       "   Id  Salary\n",
       "0   1     100\n",
       "1   2     100\n",
       "2   3      50\n",
       "3   4      50"
      ]
     },
     "execution_count": 1,
     "metadata": {},
     "output_type": "execute_result"
    }
   ],
   "source": [
    "\"\"\"pandas dataframe creation\"\"\"\n",
    "import pandas as pd\n",
    "\n",
    "emp = [(1, 100),\n",
    "(2, 100),\n",
    "(3, 50),\n",
    "(4, 50)]\n",
    "\n",
    "Employee = pd.DataFrame(emp, columns=['Id', 'Salary'])\n",
    "Employee.head()"
   ]
  },
  {
   "cell_type": "code",
   "execution_count": 2,
   "metadata": {},
   "outputs": [],
   "source": [
    "def NthHighestSalary(df, n):\n",
    "    df['sal_rank'] = df['Salary'].rank(method='dense', ascending=False)\n",
    "    ans = df[df['sal_rank'] == n]['Salary'].mean()\n",
    "    if pd.isna(ans):\n",
    "        return 'null'\n",
    "    else:\n",
    "        return ans"
   ]
  },
  {
   "cell_type": "code",
   "execution_count": 4,
   "metadata": {},
   "outputs": [
    {
     "name": "stdout",
     "output_type": "stream",
     "text": [
      "100.0\n",
      "50.0\n",
      "null\n"
     ]
    }
   ],
   "source": [
    "print(NthHighestSalary(Employee, 1))\n",
    "print(NthHighestSalary(Employee, 2))\n",
    "print(NthHighestSalary(Employee, 4))"
   ]
  }
 ],
 "metadata": {
  "kernelspec": {
   "display_name": "Python 3",
   "language": "python",
   "name": "python3"
  },
  "language_info": {
   "codemirror_mode": {
    "name": "ipython",
    "version": 3
   },
   "file_extension": ".py",
   "mimetype": "text/x-python",
   "name": "python",
   "nbconvert_exporter": "python",
   "pygments_lexer": "ipython3",
   "version": "3.8.5"
  }
 },
 "nbformat": 4,
 "nbformat_minor": 4
}

{
 "cells": [
  {
   "cell_type": "code",
   "execution_count": null,
   "metadata": {},
   "outputs": [],
   "source": [
    "\"\"\"Find completed orders of course on C++, Java, or Python after 2025-10-15, order by id of ordeer_info\"\"\""
   ]
  },
  {
   "cell_type": "code",
   "execution_count": null,
   "metadata": {},
   "outputs": [],
   "source": [
    "\"\"\"SQL table creation and data insertion\"\"\"\n",
    "drop table if exists order_info;\n",
    "\n",
    "CREATE TABLE order_info (\n",
    "id int(4) NOT NULL,\n",
    "user_id int(11) NOT NULL,\n",
    "product_name varchar(256) NOT NULL,\n",
    "status varchar(32) NOT NULL,\n",
    "client_id int(4) NOT NULL,\n",
    "date date NOT NULL,\n",
    "PRIMARY KEY (id));\n",
    "\n",
    "INSERT INTO order_info VALUES\n",
    "(1,557336,'C++','no_completed',1,'2025-10-10'),\n",
    "(2,230173543,'Python','completed',2,'2025-10-12'),\n",
    "(3,57,'JS','completed',3,'2025-10-23'),\n",
    "(4,57,'C++','completed',3,'2025-10-23'),\n",
    "(5,557336,'Java','completed',1,'2025-10-23'),\n",
    "(6,557336,'Python','no_completed',1,'2025-10-24');"
   ]
  },
  {
   "cell_type": "code",
   "execution_count": null,
   "metadata": {},
   "outputs": [],
   "source": [
    "\"\"\"SQL solution\"\"\"\n",
    "SELECT *\n",
    "FROM order_info\n",
    "WHERE date > '2025-10-15'\n",
    "AND status = 'completed'\n",
    "AND product_name IN ('C++', 'Java', 'Python')\n",
    "ORDER BY id"
   ]
  },
  {
   "cell_type": "code",
   "execution_count": 1,
   "metadata": {},
   "outputs": [
    {
     "data": {
      "text/html": [
       "<div>\n",
       "<style scoped>\n",
       "    .dataframe tbody tr th:only-of-type {\n",
       "        vertical-align: middle;\n",
       "    }\n",
       "\n",
       "    .dataframe tbody tr th {\n",
       "        vertical-align: top;\n",
       "    }\n",
       "\n",
       "    .dataframe thead th {\n",
       "        text-align: right;\n",
       "    }\n",
       "</style>\n",
       "<table border=\"1\" class=\"dataframe\">\n",
       "  <thead>\n",
       "    <tr style=\"text-align: right;\">\n",
       "      <th></th>\n",
       "      <th>id</th>\n",
       "      <th>user_id</th>\n",
       "      <th>product_name</th>\n",
       "      <th>status</th>\n",
       "      <th>client_id</th>\n",
       "      <th>date</th>\n",
       "    </tr>\n",
       "  </thead>\n",
       "  <tbody>\n",
       "    <tr>\n",
       "      <th>0</th>\n",
       "      <td>1</td>\n",
       "      <td>557336</td>\n",
       "      <td>C++</td>\n",
       "      <td>no_completed</td>\n",
       "      <td>1</td>\n",
       "      <td>2025-10-10</td>\n",
       "    </tr>\n",
       "    <tr>\n",
       "      <th>1</th>\n",
       "      <td>2</td>\n",
       "      <td>230173543</td>\n",
       "      <td>Python</td>\n",
       "      <td>completed</td>\n",
       "      <td>2</td>\n",
       "      <td>2025-10-12</td>\n",
       "    </tr>\n",
       "    <tr>\n",
       "      <th>2</th>\n",
       "      <td>3</td>\n",
       "      <td>57</td>\n",
       "      <td>JS</td>\n",
       "      <td>completed</td>\n",
       "      <td>3</td>\n",
       "      <td>2025-10-23</td>\n",
       "    </tr>\n",
       "    <tr>\n",
       "      <th>3</th>\n",
       "      <td>4</td>\n",
       "      <td>57</td>\n",
       "      <td>C++</td>\n",
       "      <td>completed</td>\n",
       "      <td>3</td>\n",
       "      <td>2025-10-23</td>\n",
       "    </tr>\n",
       "    <tr>\n",
       "      <th>4</th>\n",
       "      <td>5</td>\n",
       "      <td>557336</td>\n",
       "      <td>Java</td>\n",
       "      <td>completed</td>\n",
       "      <td>1</td>\n",
       "      <td>2025-10-23</td>\n",
       "    </tr>\n",
       "  </tbody>\n",
       "</table>\n",
       "</div>"
      ],
      "text/plain": [
       "   id    user_id product_name        status  client_id        date\n",
       "0   1     557336          C++  no_completed          1  2025-10-10\n",
       "1   2  230173543       Python     completed          2  2025-10-12\n",
       "2   3         57           JS     completed          3  2025-10-23\n",
       "3   4         57          C++     completed          3  2025-10-23\n",
       "4   5     557336         Java     completed          1  2025-10-23"
      ]
     },
     "execution_count": 1,
     "metadata": {},
     "output_type": "execute_result"
    }
   ],
   "source": [
    "\"\"\"pandas dataframe creation\"\"\"\n",
    "import pandas as pd\n",
    "\n",
    "oi = [(1,557336,'C++','no_completed',1,'2025-10-10'),\n",
    "(2,230173543,'Python','completed',2,'2025-10-12'),\n",
    "(3,57,'JS','completed',3,'2025-10-23'),\n",
    "(4,57,'C++','completed',3,'2025-10-23'),\n",
    "(5,557336,'Java','completed',1,'2025-10-23'),\n",
    "(6,557336,'Python','no_completed',1,'2025-10-24')]\n",
    "\n",
    "order_info = pd.DataFrame(oi, columns=['id', 'user_id', 'product_name', 'status', 'client_id', 'date'])\n",
    "order_info.head()"
   ]
  },
  {
   "cell_type": "code",
   "execution_count": 9,
   "metadata": {},
   "outputs": [],
   "source": [
    "order_info['date'] = pd.to_datetime(order_info['date'])"
   ]
  },
  {
   "cell_type": "code",
   "execution_count": 14,
   "metadata": {},
   "outputs": [
    {
     "data": {
      "text/html": [
       "<div>\n",
       "<style scoped>\n",
       "    .dataframe tbody tr th:only-of-type {\n",
       "        vertical-align: middle;\n",
       "    }\n",
       "\n",
       "    .dataframe tbody tr th {\n",
       "        vertical-align: top;\n",
       "    }\n",
       "\n",
       "    .dataframe thead th {\n",
       "        text-align: right;\n",
       "    }\n",
       "</style>\n",
       "<table border=\"1\" class=\"dataframe\">\n",
       "  <thead>\n",
       "    <tr style=\"text-align: right;\">\n",
       "      <th></th>\n",
       "      <th>id</th>\n",
       "      <th>user_id</th>\n",
       "      <th>product_name</th>\n",
       "      <th>status</th>\n",
       "      <th>client_id</th>\n",
       "      <th>date</th>\n",
       "    </tr>\n",
       "  </thead>\n",
       "  <tbody>\n",
       "    <tr>\n",
       "      <th>3</th>\n",
       "      <td>4</td>\n",
       "      <td>57</td>\n",
       "      <td>C++</td>\n",
       "      <td>completed</td>\n",
       "      <td>3</td>\n",
       "      <td>2025-10-23</td>\n",
       "    </tr>\n",
       "    <tr>\n",
       "      <th>4</th>\n",
       "      <td>5</td>\n",
       "      <td>557336</td>\n",
       "      <td>Java</td>\n",
       "      <td>completed</td>\n",
       "      <td>1</td>\n",
       "      <td>2025-10-23</td>\n",
       "    </tr>\n",
       "  </tbody>\n",
       "</table>\n",
       "</div>"
      ],
      "text/plain": [
       "   id  user_id product_name     status  client_id       date\n",
       "3   4       57          C++  completed          3 2025-10-23\n",
       "4   5   557336         Java  completed          1 2025-10-23"
      ]
     },
     "execution_count": 14,
     "metadata": {},
     "output_type": "execute_result"
    }
   ],
   "source": [
    "courses = ['C++', 'Java', 'Python']\n",
    "order_info[(order_info['product_name'].isin(courses)) & (order_info['date'] >= '2025-10-15') & (order_info['status'] == 'completed')].sort_values('id')"
   ]
  }
 ],
 "metadata": {
  "kernelspec": {
   "display_name": "Python 3",
   "language": "python",
   "name": "python3"
  },
  "language_info": {
   "codemirror_mode": {
    "name": "ipython",
    "version": 3
   },
   "file_extension": ".py",
   "mimetype": "text/x-python",
   "name": "python",
   "nbconvert_exporter": "python",
   "pygments_lexer": "ipython3",
   "version": "3.8.3"
  }
 },
 "nbformat": 4,
 "nbformat_minor": 4
}

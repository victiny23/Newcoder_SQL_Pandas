{
 "cells": [
  {
   "cell_type": "code",
   "execution_count": null,
   "metadata": {},
   "outputs": [],
   "source": [
    "\"\"\"Find all employees with thier managers, managers exclusive\"\"\""
   ]
  },
  {
   "cell_type": "code",
   "execution_count": null,
   "metadata": {},
   "outputs": [],
   "source": [
    "\"\"\"SQL table creation and data insertion\"\"\"\n",
    "drop table if exists  `dept_emp` ; \n",
    "drop table if exists  `dept_manager` ; \n",
    "\n",
    "CREATE TABLE `dept_emp` (\n",
    "`emp_no` int(11) NOT NULL,\n",
    "`dept_no` char(4) NOT NULL,\n",
    "`from_date` date NOT NULL,\n",
    "`to_date` date NOT NULL,\n",
    "PRIMARY KEY (`emp_no`,`dept_no`));\n",
    "\n",
    "CREATE TABLE `dept_manager` (\n",
    "`dept_no` char(4) NOT NULL,\n",
    "`emp_no` int(11) NOT NULL,\n",
    "`from_date` date NOT NULL,\n",
    "`to_date` date NOT NULL,\n",
    "PRIMARY KEY (`emp_no`,`dept_no`));\n",
    "\n",
    "INSERT INTO dept_emp VALUES(10001,'d001','1986-06-26','9999-01-01');\n",
    "INSERT INTO dept_emp VALUES(10002,'d001','1996-08-03','9999-01-01');\n",
    "INSERT INTO dept_emp VALUES(10003,'d002','1995-12-03','9999-01-01');\n",
    "\n",
    "INSERT INTO dept_manager VALUES('d001',10002,'1996-08-03','9999-01-01');\n",
    "INSERT INTO dept_manager VALUES('d002',10003,'1990-08-05','9999-01-01');"
   ]
  },
  {
   "cell_type": "code",
   "execution_count": null,
   "metadata": {},
   "outputs": [],
   "source": [
    "\"\"\"SQL solution\"\"\"\n",
    "# 1\n",
    "SELECT e.emp_no, m.emp_no\n",
    "FROM dept_emp AS e, dept_manager AS m\n",
    "WHERE e.dept_no = m.dept_no\n",
    "AND e.emp_no NOT IN \n",
    "(SELECT emp_no FROM dept_manager)\n",
    "\n",
    "# 2\n",
    "SELECT e.emp_no, m.emp_no\n",
    "FROM dept_emp AS e, dept_manager AS m\n",
    "WHERE e.dept_no = m.dept_no\n",
    "AND e.emp_no != m.emp_no"
   ]
  },
  {
   "cell_type": "code",
   "execution_count": 9,
   "metadata": {},
   "outputs": [
    {
     "data": {
      "text/html": [
       "<div>\n",
       "<style scoped>\n",
       "    .dataframe tbody tr th:only-of-type {\n",
       "        vertical-align: middle;\n",
       "    }\n",
       "\n",
       "    .dataframe tbody tr th {\n",
       "        vertical-align: top;\n",
       "    }\n",
       "\n",
       "    .dataframe thead th {\n",
       "        text-align: right;\n",
       "    }\n",
       "</style>\n",
       "<table border=\"1\" class=\"dataframe\">\n",
       "  <thead>\n",
       "    <tr style=\"text-align: right;\">\n",
       "      <th></th>\n",
       "      <th>emp_no</th>\n",
       "      <th>dept_no</th>\n",
       "      <th>from_date</th>\n",
       "      <th>to_date</th>\n",
       "    </tr>\n",
       "  </thead>\n",
       "  <tbody>\n",
       "    <tr>\n",
       "      <th>0</th>\n",
       "      <td>10001</td>\n",
       "      <td>d001</td>\n",
       "      <td>1986-06-26</td>\n",
       "      <td>9999-01-01</td>\n",
       "    </tr>\n",
       "    <tr>\n",
       "      <th>1</th>\n",
       "      <td>10002</td>\n",
       "      <td>d001</td>\n",
       "      <td>1996-08-03</td>\n",
       "      <td>9999-01-01</td>\n",
       "    </tr>\n",
       "    <tr>\n",
       "      <th>2</th>\n",
       "      <td>10003</td>\n",
       "      <td>d002</td>\n",
       "      <td>1995-12-03</td>\n",
       "      <td>9999-01-01</td>\n",
       "    </tr>\n",
       "  </tbody>\n",
       "</table>\n",
       "</div>"
      ],
      "text/plain": [
       "  emp_no dept_no   from_date     to_date\n",
       "0  10001    d001  1986-06-26  9999-01-01\n",
       "1  10002    d001  1996-08-03  9999-01-01\n",
       "2  10003    d002  1995-12-03  9999-01-01"
      ]
     },
     "execution_count": 9,
     "metadata": {},
     "output_type": "execute_result"
    }
   ],
   "source": [
    "\"\"\"Pandas dataframe creation\"\"\"\n",
    "import pandas as pd\n",
    "import numpy as np\n",
    "\n",
    "t_de = np.array([[10001,'d001','1986-06-26','9999-01-01'],\n",
    "                 [10002,'d001','1996-08-03','9999-01-01'],\n",
    "                 [10003,'d002','1995-12-03','9999-01-01']])\n",
    "t_dm = np.array([['d001',10002,'1996-08-03','9999-01-01'],\n",
    "                 ['d002',10003,'1990-08-05','9999-01-01']])\n",
    "\n",
    "dept_emp = pd.DataFrame(data=t_de, columns=['emp_no', 'dept_no', 'from_date', 'to_date'])\n",
    "dept_manager = pd.DataFrame(data=t_dm, columns=['dept_no', 'emp_no', 'from_date', 'to_date'])\n",
    "dept_emp.head()"
   ]
  },
  {
   "cell_type": "code",
   "execution_count": 7,
   "metadata": {},
   "outputs": [
    {
     "data": {
      "text/html": [
       "<div>\n",
       "<style scoped>\n",
       "    .dataframe tbody tr th:only-of-type {\n",
       "        vertical-align: middle;\n",
       "    }\n",
       "\n",
       "    .dataframe tbody tr th {\n",
       "        vertical-align: top;\n",
       "    }\n",
       "\n",
       "    .dataframe thead th {\n",
       "        text-align: right;\n",
       "    }\n",
       "</style>\n",
       "<table border=\"1\" class=\"dataframe\">\n",
       "  <thead>\n",
       "    <tr style=\"text-align: right;\">\n",
       "      <th></th>\n",
       "      <th>dept_no</th>\n",
       "      <th>emp_no</th>\n",
       "      <th>from_date</th>\n",
       "      <th>to_date</th>\n",
       "    </tr>\n",
       "  </thead>\n",
       "  <tbody>\n",
       "    <tr>\n",
       "      <th>0</th>\n",
       "      <td>d001</td>\n",
       "      <td>10002</td>\n",
       "      <td>1996-08-03</td>\n",
       "      <td>9999-01-01</td>\n",
       "    </tr>\n",
       "    <tr>\n",
       "      <th>1</th>\n",
       "      <td>d002</td>\n",
       "      <td>10003</td>\n",
       "      <td>1990-08-05</td>\n",
       "      <td>9999-01-01</td>\n",
       "    </tr>\n",
       "  </tbody>\n",
       "</table>\n",
       "</div>"
      ],
      "text/plain": [
       "  dept_no emp_no   from_date     to_date\n",
       "0    d001  10002  1996-08-03  9999-01-01\n",
       "1    d002  10003  1990-08-05  9999-01-01"
      ]
     },
     "execution_count": 7,
     "metadata": {},
     "output_type": "execute_result"
    }
   ],
   "source": [
    "dept_manager.head()"
   ]
  },
  {
   "cell_type": "code",
   "execution_count": 25,
   "metadata": {},
   "outputs": [
    {
     "data": {
      "text/html": [
       "<div>\n",
       "<style scoped>\n",
       "    .dataframe tbody tr th:only-of-type {\n",
       "        vertical-align: middle;\n",
       "    }\n",
       "\n",
       "    .dataframe tbody tr th {\n",
       "        vertical-align: top;\n",
       "    }\n",
       "\n",
       "    .dataframe thead th {\n",
       "        text-align: right;\n",
       "    }\n",
       "</style>\n",
       "<table border=\"1\" class=\"dataframe\">\n",
       "  <thead>\n",
       "    <tr style=\"text-align: right;\">\n",
       "      <th></th>\n",
       "      <th>emp_no_x</th>\n",
       "      <th>dept_no</th>\n",
       "      <th>from_date_x</th>\n",
       "      <th>to_date_x</th>\n",
       "      <th>emp_no_y</th>\n",
       "      <th>from_date_y</th>\n",
       "      <th>to_date_y</th>\n",
       "    </tr>\n",
       "  </thead>\n",
       "  <tbody>\n",
       "    <tr>\n",
       "      <th>0</th>\n",
       "      <td>10001</td>\n",
       "      <td>d001</td>\n",
       "      <td>1986-06-26</td>\n",
       "      <td>9999-01-01</td>\n",
       "      <td>10002</td>\n",
       "      <td>1996-08-03</td>\n",
       "      <td>9999-01-01</td>\n",
       "    </tr>\n",
       "    <tr>\n",
       "      <th>1</th>\n",
       "      <td>10002</td>\n",
       "      <td>d001</td>\n",
       "      <td>1996-08-03</td>\n",
       "      <td>9999-01-01</td>\n",
       "      <td>10002</td>\n",
       "      <td>1996-08-03</td>\n",
       "      <td>9999-01-01</td>\n",
       "    </tr>\n",
       "    <tr>\n",
       "      <th>2</th>\n",
       "      <td>10003</td>\n",
       "      <td>d002</td>\n",
       "      <td>1995-12-03</td>\n",
       "      <td>9999-01-01</td>\n",
       "      <td>10003</td>\n",
       "      <td>1990-08-05</td>\n",
       "      <td>9999-01-01</td>\n",
       "    </tr>\n",
       "  </tbody>\n",
       "</table>\n",
       "</div>"
      ],
      "text/plain": [
       "  emp_no_x dept_no from_date_x   to_date_x emp_no_y from_date_y   to_date_y\n",
       "0    10001    d001  1986-06-26  9999-01-01    10002  1996-08-03  9999-01-01\n",
       "1    10002    d001  1996-08-03  9999-01-01    10002  1996-08-03  9999-01-01\n",
       "2    10003    d002  1995-12-03  9999-01-01    10003  1990-08-05  9999-01-01"
      ]
     },
     "execution_count": 25,
     "metadata": {},
     "output_type": "execute_result"
    }
   ],
   "source": [
    "# merge the two table\n",
    "emp_manager = pd.merge(dept_emp, dept_manager, on='dept_no', how='outer')\n",
    "emp_manager"
   ]
  },
  {
   "cell_type": "code",
   "execution_count": 26,
   "metadata": {},
   "outputs": [
    {
     "data": {
      "text/html": [
       "<div>\n",
       "<style scoped>\n",
       "    .dataframe tbody tr th:only-of-type {\n",
       "        vertical-align: middle;\n",
       "    }\n",
       "\n",
       "    .dataframe tbody tr th {\n",
       "        vertical-align: top;\n",
       "    }\n",
       "\n",
       "    .dataframe thead th {\n",
       "        text-align: right;\n",
       "    }\n",
       "</style>\n",
       "<table border=\"1\" class=\"dataframe\">\n",
       "  <thead>\n",
       "    <tr style=\"text-align: right;\">\n",
       "      <th></th>\n",
       "      <th>emp</th>\n",
       "      <th>manager</th>\n",
       "    </tr>\n",
       "  </thead>\n",
       "  <tbody>\n",
       "    <tr>\n",
       "      <th>0</th>\n",
       "      <td>10001</td>\n",
       "      <td>10002</td>\n",
       "    </tr>\n",
       "  </tbody>\n",
       "</table>\n",
       "</div>"
      ],
      "text/plain": [
       "     emp manager\n",
       "0  10001   10002"
      ]
     },
     "execution_count": 26,
     "metadata": {},
     "output_type": "execute_result"
    }
   ],
   "source": [
    "# exclude the managers\n",
    "emp_manager = emp_manager[emp_manager.emp_no_x != emp_manager.emp_no_y]\n",
    "# select only the emp_no of employees and managers\n",
    "emp_manager = emp_manager.loc[:,['emp_no_x', 'emp_no_y']]\n",
    "# rename the columns\n",
    "emp_manager = emp_manager.rename(columns={'emp_no_x': 'emp', 'emp_no_y': 'manager'})\n",
    "emp_manager "
   ]
  }
 ],
 "metadata": {
  "kernelspec": {
   "display_name": "Python 3",
   "language": "python",
   "name": "python3"
  },
  "language_info": {
   "codemirror_mode": {
    "name": "ipython",
    "version": 3
   },
   "file_extension": ".py",
   "mimetype": "text/x-python",
   "name": "python",
   "nbconvert_exporter": "python",
   "pygments_lexer": "ipython3",
   "version": "3.8.3"
  }
 },
 "nbformat": 4,
 "nbformat_minor": 4
}

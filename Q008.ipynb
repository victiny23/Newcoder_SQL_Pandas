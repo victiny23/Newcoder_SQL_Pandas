{
 "cells": [
  {
   "cell_type": "code",
   "execution_count": null,
   "metadata": {},
   "outputs": [],
   "source": [
    "\"\"\"Find salary for all employees, show only once for the same salary, descending\"\"\""
   ]
  },
  {
   "cell_type": "code",
   "execution_count": null,
   "metadata": {},
   "outputs": [],
   "source": [
    "\"\"\"SQL table creation and data insertion\"\"\"\n",
    "drop table if exists  `salaries` ; \n",
    "CREATE TABLE `salaries` (\n",
    "`emp_no` int(11) NOT NULL,\n",
    "`salary` int(11) NOT NULL,\n",
    "`from_date` date NOT NULL,\n",
    "`to_date` date NOT NULL,\n",
    "PRIMARY KEY (`emp_no`,`from_date`));\n",
    "INSERT INTO salaries VALUES(10001,72527,'2002-06-22','9999-01-01');\n",
    "INSERT INTO salaries VALUES(10002,72527,'2001-08-02','9999-01-01');\n",
    "INSERT INTO salaries VALUES(10003,43311,'2001-12-01','9999-01-01');"
   ]
  },
  {
   "cell_type": "code",
   "execution_count": null,
   "metadata": {},
   "outputs": [],
   "source": [
    "\"\"\"SQL solution\"\"\"\n",
    "SELECT emp_no, COUNT(*) AS t\n",
    "FROM salaries\n",
    "GROUP BY emp_no\n",
    "HAVING t > 15"
   ]
  },
  {
   "cell_type": "code",
   "execution_count": 3,
   "metadata": {},
   "outputs": [
    {
     "data": {
      "text/html": [
       "<div>\n",
       "<style scoped>\n",
       "    .dataframe tbody tr th:only-of-type {\n",
       "        vertical-align: middle;\n",
       "    }\n",
       "\n",
       "    .dataframe tbody tr th {\n",
       "        vertical-align: top;\n",
       "    }\n",
       "\n",
       "    .dataframe thead th {\n",
       "        text-align: right;\n",
       "    }\n",
       "</style>\n",
       "<table border=\"1\" class=\"dataframe\">\n",
       "  <thead>\n",
       "    <tr style=\"text-align: right;\">\n",
       "      <th></th>\n",
       "      <th>emp_no</th>\n",
       "      <th>salary</th>\n",
       "      <th>from_date</th>\n",
       "      <th>to_date</th>\n",
       "    </tr>\n",
       "  </thead>\n",
       "  <tbody>\n",
       "    <tr>\n",
       "      <th>0</th>\n",
       "      <td>10001</td>\n",
       "      <td>72527</td>\n",
       "      <td>2002-06-22</td>\n",
       "      <td>9999-01-01</td>\n",
       "    </tr>\n",
       "    <tr>\n",
       "      <th>1</th>\n",
       "      <td>10002</td>\n",
       "      <td>72527</td>\n",
       "      <td>2001-08-02</td>\n",
       "      <td>9999-01-01</td>\n",
       "    </tr>\n",
       "    <tr>\n",
       "      <th>2</th>\n",
       "      <td>10003</td>\n",
       "      <td>43311</td>\n",
       "      <td>2001-12-01</td>\n",
       "      <td>9999-01-01</td>\n",
       "    </tr>\n",
       "  </tbody>\n",
       "</table>\n",
       "</div>"
      ],
      "text/plain": [
       "  emp_no salary   from_date     to_date\n",
       "0  10001  72527  2002-06-22  9999-01-01\n",
       "1  10002  72527  2001-08-02  9999-01-01\n",
       "2  10003  43311  2001-12-01  9999-01-01"
      ]
     },
     "execution_count": 3,
     "metadata": {},
     "output_type": "execute_result"
    }
   ],
   "source": [
    "\"\"\"Pandas dataframe creation\"\"\"\n",
    "import pandas as pd\n",
    "import numpy as np\n",
    "\n",
    "salary = np.array([[10001,72527,'2002-06-22','9999-01-01'],\n",
    "                   [10002,72527,'2001-08-02','9999-01-01'],\n",
    "                   [10003,43311,'2001-12-01','9999-01-01']\n",
    "                  ])\n",
    "salaries = pd.DataFrame(data=salary, columns=['emp_no', 'salary', 'from_date', 'to_date'])\n",
    "salaries.head()"
   ]
  },
  {
   "cell_type": "code",
   "execution_count": 24,
   "metadata": {},
   "outputs": [
    {
     "data": {
      "text/plain": [
       "0    72527\n",
       "1    43311\n",
       "dtype: object"
      ]
     },
     "execution_count": 24,
     "metadata": {},
     "output_type": "execute_result"
    }
   ],
   "source": [
    "pd.Series(salaries['salary'].unique()).sort_values(ascending=False)"
   ]
  }
 ],
 "metadata": {
  "kernelspec": {
   "display_name": "Python 3",
   "language": "python",
   "name": "python3"
  },
  "language_info": {
   "codemirror_mode": {
    "name": "ipython",
    "version": 3
   },
   "file_extension": ".py",
   "mimetype": "text/x-python",
   "name": "python",
   "nbconvert_exporter": "python",
   "pygments_lexer": "ipython3",
   "version": "3.8.3"
  }
 },
 "nbformat": 4,
 "nbformat_minor": 4
}

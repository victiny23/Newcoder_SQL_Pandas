{
 "cells": [
  {
   "cell_type": "code",
   "execution_count": null,
   "metadata": {},
   "outputs": [],
   "source": [
    "\"\"\"\n",
    "Table: Person\n",
    "\n",
    "+-------------+---------+\n",
    "| Column Name | Type    |\n",
    "+-------------+---------+\n",
    "| PersonId    | int     |\n",
    "| FirstName   | varchar |\n",
    "| LastName    | varchar |\n",
    "+-------------+---------+\n",
    "PersonId is the primary key column for this table.\n",
    "Table: Address\n",
    "\n",
    "+-------------+---------+\n",
    "| Column Name | Type    |\n",
    "+-------------+---------+\n",
    "| AddressId   | int     |\n",
    "| PersonId    | int     |\n",
    "| City        | varchar |\n",
    "| State       | varchar |\n",
    "+-------------+---------+\n",
    "AddressId is the primary key column for this table.\n",
    " \n",
    "\n",
    "Write a SQL query for a report that provides the following information for each person in the Person table, \n",
    "regardless if there is an address for each of those people:\n",
    "\n",
    "FirstName, LastName, City, State\n",
    "\"\"\""
   ]
  },
  {
   "cell_type": "code",
   "execution_count": null,
   "metadata": {},
   "outputs": [],
   "source": [
    "\"\"\"testcase\"\"\"\n",
    "{\"headers\": {\"Person\": [\"PersonId\", \"LastName\", \"FirstName\"], \"Address\": [\"AddressId\", \"PersonId\", \"City\", \"State\"]}, \n",
    " \"rows\": {\"Person\": [[1, \"Wang\", \"Allen\"]], \"Address\": [[1, 2, \"New York City\", \"New York\"]]}}"
   ]
  },
  {
   "cell_type": "code",
   "execution_count": null,
   "metadata": {},
   "outputs": [],
   "source": [
    "\"\"\"SQL table creation and data insertion\"\"\"\n",
    "DROP TABLE IF EXISTS Person;\n",
    "DROP TABLE IF EXISTS Address;\n",
    "\n",
    "CREATE TABLE Person(\n",
    "PersonId  int(4) NOT NULL,\n",
    "LastName varchar(32) NOT NULL,\n",
    "FirstName varchar(32) NOT NULL,\n",
    "PRIMARY KEY ('PersonId'));\n",
    "\n",
    "CREATE TABLE Address(\n",
    "AddressId int(4) NOT NULL,\n",
    "PersonId  int(4) NOT NULL,\n",
    "City varchar(32) NOT NULL,\n",
    "State varchar(32) NOT NULL,\n",
    "PRIMARY KEY ('AddressId'));\n",
    "\n",
    "INSERT INTO Person VALUES\n",
    "(1, 'Wang', 'Allen');\n",
    "\n",
    "INSERT INTO Address VALUES\n",
    "(1, 2, 'New York City', 'New York');"
   ]
  },
  {
   "cell_type": "code",
   "execution_count": null,
   "metadata": {},
   "outputs": [],
   "source": [
    "\"\"\"SQL solution\"\"\"\n",
    "# use left join to cover each person in table Person\n",
    "SELECT FirstName, LastName, City, State\n",
    "FROM Person AS p\n",
    "LEFT JOIN Address AS a\n",
    "ON p.PersonId = a.PersonId"
   ]
  },
  {
   "cell_type": "code",
   "execution_count": 1,
   "metadata": {},
   "outputs": [
    {
     "data": {
      "text/html": [
       "<div>\n",
       "<style scoped>\n",
       "    .dataframe tbody tr th:only-of-type {\n",
       "        vertical-align: middle;\n",
       "    }\n",
       "\n",
       "    .dataframe tbody tr th {\n",
       "        vertical-align: top;\n",
       "    }\n",
       "\n",
       "    .dataframe thead th {\n",
       "        text-align: right;\n",
       "    }\n",
       "</style>\n",
       "<table border=\"1\" class=\"dataframe\">\n",
       "  <thead>\n",
       "    <tr style=\"text-align: right;\">\n",
       "      <th></th>\n",
       "      <th>PersonId</th>\n",
       "      <th>LastName</th>\n",
       "      <th>FirstName</th>\n",
       "    </tr>\n",
       "  </thead>\n",
       "  <tbody>\n",
       "    <tr>\n",
       "      <th>0</th>\n",
       "      <td>1</td>\n",
       "      <td>Wang</td>\n",
       "      <td>Allen</td>\n",
       "    </tr>\n",
       "  </tbody>\n",
       "</table>\n",
       "</div>"
      ],
      "text/plain": [
       "   PersonId LastName FirstName\n",
       "0         1     Wang     Allen"
      ]
     },
     "execution_count": 1,
     "metadata": {},
     "output_type": "execute_result"
    }
   ],
   "source": [
    "\"\"\"pandas dataframe creation\"\"\"\n",
    "import pandas as pd\n",
    "\n",
    "Person = pd.DataFrame([[1, 'Wang', 'Allen']], columns=['PersonId', 'LastName', 'FirstName'])\n",
    "Person.head()"
   ]
  },
  {
   "cell_type": "code",
   "execution_count": 2,
   "metadata": {},
   "outputs": [
    {
     "data": {
      "text/html": [
       "<div>\n",
       "<style scoped>\n",
       "    .dataframe tbody tr th:only-of-type {\n",
       "        vertical-align: middle;\n",
       "    }\n",
       "\n",
       "    .dataframe tbody tr th {\n",
       "        vertical-align: top;\n",
       "    }\n",
       "\n",
       "    .dataframe thead th {\n",
       "        text-align: right;\n",
       "    }\n",
       "</style>\n",
       "<table border=\"1\" class=\"dataframe\">\n",
       "  <thead>\n",
       "    <tr style=\"text-align: right;\">\n",
       "      <th></th>\n",
       "      <th>AddressId</th>\n",
       "      <th>PersonId</th>\n",
       "      <th>City</th>\n",
       "      <th>State</th>\n",
       "    </tr>\n",
       "  </thead>\n",
       "  <tbody>\n",
       "    <tr>\n",
       "      <th>0</th>\n",
       "      <td>1</td>\n",
       "      <td>2</td>\n",
       "      <td>New York City</td>\n",
       "      <td>New York</td>\n",
       "    </tr>\n",
       "  </tbody>\n",
       "</table>\n",
       "</div>"
      ],
      "text/plain": [
       "   AddressId  PersonId           City     State\n",
       "0          1         2  New York City  New York"
      ]
     },
     "execution_count": 2,
     "metadata": {},
     "output_type": "execute_result"
    }
   ],
   "source": [
    "Address = pd.DataFrame([[1, 2, 'New York City', 'New York']], columns=['AddressId', 'PersonId', 'City', 'State'])\n",
    "Address.head()"
   ]
  },
  {
   "cell_type": "code",
   "execution_count": 13,
   "metadata": {},
   "outputs": [
    {
     "data": {
      "text/html": [
       "<div>\n",
       "<style scoped>\n",
       "    .dataframe tbody tr th:only-of-type {\n",
       "        vertical-align: middle;\n",
       "    }\n",
       "\n",
       "    .dataframe tbody tr th {\n",
       "        vertical-align: top;\n",
       "    }\n",
       "\n",
       "    .dataframe thead th {\n",
       "        text-align: right;\n",
       "    }\n",
       "</style>\n",
       "<table border=\"1\" class=\"dataframe\">\n",
       "  <thead>\n",
       "    <tr style=\"text-align: right;\">\n",
       "      <th></th>\n",
       "      <th>FirstName</th>\n",
       "      <th>LastName</th>\n",
       "      <th>City</th>\n",
       "      <th>State</th>\n",
       "    </tr>\n",
       "  </thead>\n",
       "  <tbody>\n",
       "    <tr>\n",
       "      <th>0</th>\n",
       "      <td>Allen</td>\n",
       "      <td>Wang</td>\n",
       "      <td>null</td>\n",
       "      <td>null</td>\n",
       "    </tr>\n",
       "  </tbody>\n",
       "</table>\n",
       "</div>"
      ],
      "text/plain": [
       "  FirstName LastName  City State\n",
       "0     Allen     Wang  null  null"
      ]
     },
     "execution_count": 13,
     "metadata": {},
     "output_type": "execute_result"
    }
   ],
   "source": [
    "df = pd.merge(Person, Address, on='PersonId', how='left')\n",
    "df.fillna('null', inplace=True)\n",
    "# or: df = df.fillna('null')\n",
    "df[['FirstName', 'LastName', 'City', 'State']]"
   ]
  }
 ],
 "metadata": {
  "kernelspec": {
   "display_name": "Python 3",
   "language": "python",
   "name": "python3"
  },
  "language_info": {
   "codemirror_mode": {
    "name": "ipython",
    "version": 3
   },
   "file_extension": ".py",
   "mimetype": "text/x-python",
   "name": "python",
   "nbconvert_exporter": "python",
   "pygments_lexer": "ipython3",
   "version": "3.8.5"
  }
 },
 "nbformat": 4,
 "nbformat_minor": 4
}

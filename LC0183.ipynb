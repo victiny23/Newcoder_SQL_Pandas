{
 "cells": [
  {
   "cell_type": "code",
   "execution_count": null,
   "metadata": {},
   "outputs": [],
   "source": [
    "\"\"\"\n",
    "Customers Who Never Order\n",
    "\n",
    "Suppose that a website contains two tables, the Customers table and the Orders table. Write a SQL query to find all customers who never order anything.\n",
    "\n",
    "Table: Customers.\n",
    "\n",
    "+----+-------+\n",
    "| Id | Name  |\n",
    "+----+-------+\n",
    "| 1  | Joe   |\n",
    "| 2  | Henry |\n",
    "| 3  | Sam   |\n",
    "| 4  | Max   |\n",
    "+----+-------+\n",
    "Table: Orders.\n",
    "\n",
    "+----+------------+\n",
    "| Id | CustomerId |\n",
    "+----+------------+\n",
    "| 1  | 3          |\n",
    "| 2  | 1          |\n",
    "+----+------------+\n",
    "\"\"\""
   ]
  },
  {
   "cell_type": "code",
   "execution_count": null,
   "metadata": {},
   "outputs": [],
   "source": [
    "\"\"\"testcase\"\"\"\n",
    "{\"headers\": {\"Customers\": [\"Id\", \"Name\"], \"Orders\": [\"Id\", \"CustomerId\"]}, \n",
    " \"rows\": {\"Customers\": [[1, \"Joe\"], [2, \"Henry\"], [3, \"Sam\"], [4, \"Max\"]], \"Orders\": [[1, 3], [2, 1]]}}"
   ]
  },
  {
   "cell_type": "code",
   "execution_count": null,
   "metadata": {},
   "outputs": [],
   "source": [
    "\"\"\"SQL table creation and data insertion\"\"\"\n",
    "DROP TABLE IF EXISTS Customers;\n",
    "DROP TABLE IF EXISTS Orders;\n",
    "\n",
    "CREATE TABLE Customers(\n",
    "Id  int(4) NOT NULL,\n",
    "Num varchar(32) NOT NULL,\n",
    "PRIMARY KEY ('Id'));\n",
    "\n",
    "INSERT INTO Customers VALUES\n",
    "(1, \"Joe\"),\n",
    "(2, \"Henry\"),\n",
    "(3, \"Sam\"),\n",
    "(4, \"Max\");\n",
    "\n",
    "CREATE TABLE Orders(\n",
    "Id int(4) NOT NULL,\n",
    "CustomerId int(4) NOT NULL,\n",
    "PRIMARY KEY ('Id'));\n",
    "\n",
    "INSERT INTO Orders VALUES\n",
    "(1, 3),\n",
    "(2, 1);"
   ]
  },
  {
   "cell_type": "code",
   "execution_count": null,
   "metadata": {},
   "outputs": [],
   "source": [
    "\"\"\"SQL solution\"\"\"\n",
    "# 1\n",
    "SELECT c.Name AS Customers\n",
    "FROM Customers AS c\n",
    "WHERE c.Id NOT IN (SELECT CustomerId FROM Orders)\n",
    "\n",
    "# 2\n",
    "SELECT c.Name AS Customers\n",
    "FROM Customers AS c\n",
    "LEFT JOIN Orders AS o\n",
    "ON c.Id = o.CustomerId\n",
    "WHERE o.CustomerId IS NULL\n",
    "\n",
    "# 3\n",
    "SELECT c.Name AS Customers\n",
    "FROM Customers AS c\n",
    "WHERE NOT EXISTS (SELECT * FROM Orders As o WHERE c.Id = o.CustomerId)"
   ]
  },
  {
   "cell_type": "code",
   "execution_count": 2,
   "metadata": {},
   "outputs": [
    {
     "data": {
      "text/html": [
       "<div>\n",
       "<style scoped>\n",
       "    .dataframe tbody tr th:only-of-type {\n",
       "        vertical-align: middle;\n",
       "    }\n",
       "\n",
       "    .dataframe tbody tr th {\n",
       "        vertical-align: top;\n",
       "    }\n",
       "\n",
       "    .dataframe thead th {\n",
       "        text-align: right;\n",
       "    }\n",
       "</style>\n",
       "<table border=\"1\" class=\"dataframe\">\n",
       "  <thead>\n",
       "    <tr style=\"text-align: right;\">\n",
       "      <th></th>\n",
       "      <th>Id</th>\n",
       "      <th>Name</th>\n",
       "    </tr>\n",
       "  </thead>\n",
       "  <tbody>\n",
       "    <tr>\n",
       "      <th>0</th>\n",
       "      <td>1</td>\n",
       "      <td>Joe</td>\n",
       "    </tr>\n",
       "    <tr>\n",
       "      <th>1</th>\n",
       "      <td>2</td>\n",
       "      <td>Henry</td>\n",
       "    </tr>\n",
       "    <tr>\n",
       "      <th>2</th>\n",
       "      <td>3</td>\n",
       "      <td>Sam</td>\n",
       "    </tr>\n",
       "    <tr>\n",
       "      <th>3</th>\n",
       "      <td>4</td>\n",
       "      <td>Max</td>\n",
       "    </tr>\n",
       "  </tbody>\n",
       "</table>\n",
       "</div>"
      ],
      "text/plain": [
       "   Id   Name\n",
       "0   1    Joe\n",
       "1   2  Henry\n",
       "2   3    Sam\n",
       "3   4    Max"
      ]
     },
     "execution_count": 2,
     "metadata": {},
     "output_type": "execute_result"
    }
   ],
   "source": [
    "\"\"\"pandas dataframe creation\"\"\"\n",
    "import pandas as pd\n",
    "\n",
    "tc = [(1, \"Joe\"),\n",
    "(2, \"Henry\"),\n",
    "(3, \"Sam\"),\n",
    "(4, \"Max\")]\n",
    "\n",
    "Customers = pd.DataFrame(tc, columns=['Id', 'Name'])\n",
    "\n",
    "to = [(1, 3),\n",
    "(2, 1)]\n",
    "\n",
    "Orders = pd.DataFrame(to, columns=['Id', 'CustomerId'])\n",
    "\n",
    "Customers.head()"
   ]
  },
  {
   "cell_type": "code",
   "execution_count": 4,
   "metadata": {},
   "outputs": [
    {
     "data": {
      "text/html": [
       "<div>\n",
       "<style scoped>\n",
       "    .dataframe tbody tr th:only-of-type {\n",
       "        vertical-align: middle;\n",
       "    }\n",
       "\n",
       "    .dataframe tbody tr th {\n",
       "        vertical-align: top;\n",
       "    }\n",
       "\n",
       "    .dataframe thead th {\n",
       "        text-align: right;\n",
       "    }\n",
       "</style>\n",
       "<table border=\"1\" class=\"dataframe\">\n",
       "  <thead>\n",
       "    <tr style=\"text-align: right;\">\n",
       "      <th></th>\n",
       "      <th>Id</th>\n",
       "      <th>CustomerId</th>\n",
       "    </tr>\n",
       "  </thead>\n",
       "  <tbody>\n",
       "    <tr>\n",
       "      <th>0</th>\n",
       "      <td>1</td>\n",
       "      <td>3</td>\n",
       "    </tr>\n",
       "    <tr>\n",
       "      <th>1</th>\n",
       "      <td>2</td>\n",
       "      <td>1</td>\n",
       "    </tr>\n",
       "  </tbody>\n",
       "</table>\n",
       "</div>"
      ],
      "text/plain": [
       "   Id  CustomerId\n",
       "0   1           3\n",
       "1   2           1"
      ]
     },
     "execution_count": 4,
     "metadata": {},
     "output_type": "execute_result"
    }
   ],
   "source": [
    "Orders.head()"
   ]
  },
  {
   "cell_type": "code",
   "execution_count": 11,
   "metadata": {},
   "outputs": [
    {
     "data": {
      "text/plain": [
       "1    Henry\n",
       "3      Max\n",
       "Name: Name, dtype: object"
      ]
     },
     "execution_count": 11,
     "metadata": {},
     "output_type": "execute_result"
    }
   ],
   "source": [
    "# 1\n",
    "Customers[~Customers['Id'].isin(Orders['CustomerId'])]['Name']"
   ]
  },
  {
   "cell_type": "code",
   "execution_count": 14,
   "metadata": {},
   "outputs": [
    {
     "data": {
      "text/plain": [
       "1    Henry\n",
       "3      Max\n",
       "Name: Name, dtype: object"
      ]
     },
     "execution_count": 14,
     "metadata": {},
     "output_type": "execute_result"
    }
   ],
   "source": [
    "# 2\n",
    "df = pd.merge(Customers, Orders, left_on='Id', right_on='CustomerId', how='left', suffixes=['_customer', '_order'])\n",
    "df[df['CustomerId'].isna()]['Name']"
   ]
  }
 ],
 "metadata": {
  "kernelspec": {
   "display_name": "Python 3",
   "language": "python",
   "name": "python3"
  },
  "language_info": {
   "codemirror_mode": {
    "name": "ipython",
    "version": 3
   },
   "file_extension": ".py",
   "mimetype": "text/x-python",
   "name": "python",
   "nbconvert_exporter": "python",
   "pygments_lexer": "ipython3",
   "version": "3.8.3"
  }
 },
 "nbformat": 4,
 "nbformat_minor": 4
}

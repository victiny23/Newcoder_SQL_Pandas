{
 "cells": [
  {
   "cell_type": "code",
   "execution_count": null,
   "metadata": {},
   "outputs": [],
   "source": [
    "\"\"\"\n",
    "Second Highest Salary\n",
    "\n",
    "Write a SQL query to get the second highest salary from the Employee table\n",
    "\n",
    "# If there is no second highest salary, then the query should return null.\n",
    "# If there are more than 1 record with the second highest salary, return only 1 record\n",
    "\"\"\""
   ]
  },
  {
   "cell_type": "code",
   "execution_count": null,
   "metadata": {},
   "outputs": [],
   "source": [
    "\"\"\"testcase\"\"\"\n",
    "# case_1\n",
    "{\"headers\": {\"Employee\": [\"Id\", \"Salary\"]}, \"rows\": {\"Employee\": [[1, 100], [2, 200], [3, 300]]}}\n",
    "# case_2: tied at highest, no second highest\n",
    "{\"headers\": {\"Employee\": [\"Id\", \"Salary\"]}, \"rows\": {\"Employee\": [[1, 100], [2, 100]]}}\n",
    "# case_3: tied at second highest\n",
    "{\"headers\": {\"Employee\": [\"Id\", \"Salary\"]}, \"rows\": {\"Employee\": [[1, 100], [2, 50], [3, 50]]}}\n",
    "# case_3: tied at highest, with second highest \n",
    "{\"headers\": {\"Employee\": [\"Id\", \"Salary\"]}, \"rows\": {\"Employee\": [[1, 100], [2, 100], [3, 50]]}}\n",
    "# case_4: no second highest\n",
    "{\"headers\": {\"Employee\": [\"Id\", \"Salary\"]}, \"rows\": {\"Employee\": [[1, 100]]}}"
   ]
  },
  {
   "cell_type": "code",
   "execution_count": null,
   "metadata": {},
   "outputs": [],
   "source": [
    "\"\"\"SQL table creation and data insertion\"\"\"\n",
    "DROP TABLE IF EXISTS Employee;\n",
    "\n",
    "CREATE TABLE Employee(\n",
    "Id  int(4) NOT NULL,\n",
    "Salary int(8) NOT NULL,\n",
    "PRIMARY KEY ('Id'));\n",
    "\n",
    "INSERT INTO Person VALUES\n",
    "(1, 100),\n",
    "(2, 100),\n",
    "(3, 50),\n",
    "(4, 50);"
   ]
  },
  {
   "cell_type": "code",
   "execution_count": null,
   "metadata": {},
   "outputs": [],
   "source": [
    "\"\"\"SQL solution\"\"\"\n",
    "# pitfalls: return null when there is no result instead of an empty result\n",
    "# MAX() returns null of the result is empty\n",
    "SELECT MAX(Salary) AS SecondHighestSalary\n",
    "FROM Employee\n",
    "WHERE Salary < (SELECT MAX(Salary) FROM Employee)\n",
    "\n",
    "# consider salary tied at highest\n",
    "# order by limit 1 off 1, or row_number won't work, will need dense_rank() instead\n",
    "\n",
    "# consider tied at second highest, will need limit 1 to return only 1 result when found\n",
    "\n",
    "# SEELCT (your complete query) AS alias\n",
    "# returns your record if only 1 is found\n",
    "# returns null if no record is found\n",
    "# fails if multiple records are found\n",
    "SELECT\n",
    "(SELECT Salary\n",
    "FROM\n",
    "(SELECT Salary, DENSE_RANK() OVER(ORDER BY Salary DESC) AS r\n",
    "FROM Employee) AS f\n",
    "WHERE f.r = 2\n",
    "LIMIT 1) AS SecondHighestSalary\n",
    "\n",
    "SELECT\n",
    "(SELECT DISTINCT Salary\n",
    "FROM\n",
    "(SELECT Salary, DENSE_RANK() OVER(ORDER BY Salary DESC) AS r\n",
    "FROM Employee) AS f\n",
    "WHERE f.r = 2) AS SecondHighestSalary"
   ]
  },
  {
   "cell_type": "code",
   "execution_count": 5,
   "metadata": {},
   "outputs": [
    {
     "data": {
      "text/html": [
       "<div>\n",
       "<style scoped>\n",
       "    .dataframe tbody tr th:only-of-type {\n",
       "        vertical-align: middle;\n",
       "    }\n",
       "\n",
       "    .dataframe tbody tr th {\n",
       "        vertical-align: top;\n",
       "    }\n",
       "\n",
       "    .dataframe thead th {\n",
       "        text-align: right;\n",
       "    }\n",
       "</style>\n",
       "<table border=\"1\" class=\"dataframe\">\n",
       "  <thead>\n",
       "    <tr style=\"text-align: right;\">\n",
       "      <th></th>\n",
       "      <th>Id</th>\n",
       "      <th>Salary</th>\n",
       "    </tr>\n",
       "  </thead>\n",
       "  <tbody>\n",
       "    <tr>\n",
       "      <th>0</th>\n",
       "      <td>1</td>\n",
       "      <td>100</td>\n",
       "    </tr>\n",
       "    <tr>\n",
       "      <th>1</th>\n",
       "      <td>2</td>\n",
       "      <td>100</td>\n",
       "    </tr>\n",
       "    <tr>\n",
       "      <th>2</th>\n",
       "      <td>3</td>\n",
       "      <td>50</td>\n",
       "    </tr>\n",
       "    <tr>\n",
       "      <th>3</th>\n",
       "      <td>4</td>\n",
       "      <td>50</td>\n",
       "    </tr>\n",
       "  </tbody>\n",
       "</table>\n",
       "</div>"
      ],
      "text/plain": [
       "   Id  Salary\n",
       "0   1     100\n",
       "1   2     100\n",
       "2   3      50\n",
       "3   4      50"
      ]
     },
     "execution_count": 5,
     "metadata": {},
     "output_type": "execute_result"
    }
   ],
   "source": [
    "\"\"\"pandas dataframe creation\"\"\"\n",
    "import pandas as pd\n",
    "\n",
    "emp1 = [(1, 100),\n",
    "(2, 100),\n",
    "(3, 50),\n",
    "(4, 50)]\n",
    "\n",
    "emp2 = [(1, 100),\n",
    "(2, 100)]\n",
    "\n",
    "Employee1 = pd.DataFrame(emp1, columns=['Id', 'Salary'])\n",
    "Employee2 = pd.DataFrame(emp2, columns=['Id', 'Salary'])\n",
    "Employee1.head()"
   ]
  },
  {
   "cell_type": "code",
   "execution_count": 18,
   "metadata": {},
   "outputs": [
    {
     "data": {
      "text/plain": [
       "50.0"
      ]
     },
     "execution_count": 18,
     "metadata": {},
     "output_type": "execute_result"
    }
   ],
   "source": [
    "Employee1['sal_rank'] = Employee1['Salary'].rank(method='dense', ascending=False)\n",
    "Employee1[Employee1['sal_rank'] == 2]['Salary'].mean() # or .max(), .min()\n",
    "ans = Employee1[Employee1['sal_rank'] == 2]['Salary'].mean() # or .max(), .min()\n",
    "# this returns nan if no record is found\n",
    "# in case we really need a 'null'\n",
    "if pd.isna(ans): \n",
    "    SecondHighest ='null'\n",
    "else:\n",
    "    SecondHighest = ans\n",
    "SecondHighest"
   ]
  },
  {
   "cell_type": "code",
   "execution_count": 19,
   "metadata": {},
   "outputs": [
    {
     "name": "stderr",
     "output_type": "stream",
     "text": [
      "<ipython-input-19-6161eab0b062>:2: UserWarning: Boolean Series key will be reindexed to match DataFrame index.\n",
      "  ans = Employee2[Employee['sal_rank'] == 2]['Salary'].mean() # or .max(), .min()\n"
     ]
    },
    {
     "data": {
      "text/plain": [
       "'null'"
      ]
     },
     "execution_count": 19,
     "metadata": {},
     "output_type": "execute_result"
    }
   ],
   "source": [
    "Employee2['sal_rank'] = Employee2['Salary'].rank(method='dense', ascending=False)\n",
    "ans = Employee2[Employee2['sal_rank'] == 2]['Salary'].mean() # or .max(), .min()\n",
    "# this returns nan if no record is found\n",
    "# in case we really need a 'null'\n",
    "if pd.isna(ans): \n",
    "if pd.isna(ans): \n",
    "    SecondHighest ='null'\n",
    "else:\n",
    "    SecondHighest = ans\n",
    "SecondHighest"
   ]
  }
 ],
 "metadata": {
  "kernelspec": {
   "display_name": "Python 3",
   "language": "python",
   "name": "python3"
  },
  "language_info": {
   "codemirror_mode": {
    "name": "ipython",
    "version": 3
   },
   "file_extension": ".py",
   "mimetype": "text/x-python",
   "name": "python",
   "nbconvert_exporter": "python",
   "pygments_lexer": "ipython3",
   "version": "3.8.5"
  }
 },
 "nbformat": 4,
 "nbformat_minor": 4
}

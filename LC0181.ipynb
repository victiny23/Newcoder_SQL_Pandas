{
 "cells": [
  {
   "cell_type": "code",
   "execution_count": null,
   "metadata": {},
   "outputs": [],
   "source": [
    "\"\"\"\n",
    "The Employee table holds all employees including their managers. \n",
    "Every employee has an Id, and there is also a column for the manager Id.\n",
    "The manager Id for managers are null.\n",
    "+----+-------+--------+-----------+\n",
    "| Id | Name  | Salary | ManagerId |\n",
    "+----+-------+--------+-----------+\n",
    "| 1  | Joe   | 70000  | 3         |\n",
    "| 2  | Henry | 80000  | 4         |\n",
    "| 3  | Sam   | 60000  | NULL      |\n",
    "| 4  | Max   | 90000  | NULL      |\n",
    "+----+-------+--------+-----------+\n",
    "Given the Employee table, write a SQL query that finds out employees who earn more than their managers.\n",
    "\"\"\""
   ]
  },
  {
   "cell_type": "code",
   "execution_count": null,
   "metadata": {},
   "outputs": [],
   "source": [
    "\"\"\"testcase\"\"\"\n",
    "{\"headers\": {\"Employee\": [\"Id\", \"Name\", \"Salary\", \"ManagerId\"]}, \n",
    " \"rows\": {\"Employee\": [[1, \"Joe\", 70000, 3], [2, \"Henry\", 80000, 4], [3, \"Sam\", 60000, null], [4, \"Max\", 90000, null]]}}"
   ]
  },
  {
   "cell_type": "code",
   "execution_count": null,
   "metadata": {},
   "outputs": [],
   "source": [
    "\"\"\"SQL table creation and data insertion\"\"\"\n",
    "DROP TABLE IF EXISTS Employee;\n",
    "\n",
    "CREATE TABLE Employee(\n",
    "Id int(4) NOT NULL,\n",
    "Name varchar(32) NOT NULL,\n",
    "Salary int(10) NOT NULL,\n",
    "ManagerId int(4),\n",
    "PRIMARY KEY ('Id'));\n",
    "\n",
    "INSERT INTO Employee VALUES\n",
    "(1, \"Joe\", 70000, 3),\n",
    "(2, \"Henry\", 80000, 4),\n",
    "(3, \"Sam\", 60000, null),\n",
    "(4, \"Max\", 90000, null);"
   ]
  },
  {
   "cell_type": "code",
   "execution_count": null,
   "metadata": {},
   "outputs": [],
   "source": [
    "\"\"\"SQL solution\"\"\"\n",
    "SELECT e.Name AS Employee\n",
    "FROM Employee AS e, Employee AS m\n",
    "WHERE e.ManagerId = m.id\n",
    "AND e.Salary > m.Salary"
   ]
  },
  {
   "cell_type": "code",
   "execution_count": 4,
   "metadata": {},
   "outputs": [
    {
     "data": {
      "text/html": [
       "<div>\n",
       "<style scoped>\n",
       "    .dataframe tbody tr th:only-of-type {\n",
       "        vertical-align: middle;\n",
       "    }\n",
       "\n",
       "    .dataframe tbody tr th {\n",
       "        vertical-align: top;\n",
       "    }\n",
       "\n",
       "    .dataframe thead th {\n",
       "        text-align: right;\n",
       "    }\n",
       "</style>\n",
       "<table border=\"1\" class=\"dataframe\">\n",
       "  <thead>\n",
       "    <tr style=\"text-align: right;\">\n",
       "      <th></th>\n",
       "      <th>Id</th>\n",
       "      <th>Name</th>\n",
       "      <th>Salary</th>\n",
       "      <th>ManagerId</th>\n",
       "    </tr>\n",
       "  </thead>\n",
       "  <tbody>\n",
       "    <tr>\n",
       "      <th>0</th>\n",
       "      <td>1</td>\n",
       "      <td>Joe</td>\n",
       "      <td>70000</td>\n",
       "      <td>3</td>\n",
       "    </tr>\n",
       "    <tr>\n",
       "      <th>1</th>\n",
       "      <td>2</td>\n",
       "      <td>Henry</td>\n",
       "      <td>80000</td>\n",
       "      <td>4</td>\n",
       "    </tr>\n",
       "    <tr>\n",
       "      <th>2</th>\n",
       "      <td>3</td>\n",
       "      <td>Sam</td>\n",
       "      <td>60000</td>\n",
       "      <td>null</td>\n",
       "    </tr>\n",
       "    <tr>\n",
       "      <th>3</th>\n",
       "      <td>4</td>\n",
       "      <td>Max</td>\n",
       "      <td>90000</td>\n",
       "      <td>null</td>\n",
       "    </tr>\n",
       "  </tbody>\n",
       "</table>\n",
       "</div>"
      ],
      "text/plain": [
       "   Id   Name  Salary ManagerId\n",
       "0   1    Joe   70000         3\n",
       "1   2  Henry   80000         4\n",
       "2   3    Sam   60000      null\n",
       "3   4    Max   90000      null"
      ]
     },
     "execution_count": 4,
     "metadata": {},
     "output_type": "execute_result"
    }
   ],
   "source": [
    "\"\"\"pandas dataframe creation\"\"\"\n",
    "import pandas as pd\n",
    "\n",
    "emp = [(1, \"Joe\", 70000, 3),\n",
    "(2, \"Henry\", 80000, 4),\n",
    "(3, \"Sam\", 60000, 'null'),\n",
    "(4, \"Max\", 90000, 'null')]\n",
    "\n",
    "Employee = pd.DataFrame(emp, columns=['Id', 'Name', 'Salary', 'ManagerId'])\n",
    "Employee.head()"
   ]
  },
  {
   "cell_type": "code",
   "execution_count": 11,
   "metadata": {},
   "outputs": [
    {
     "data": {
      "text/plain": [
       "0    Joe\n",
       "Name: Name_employee, dtype: object"
      ]
     },
     "execution_count": 11,
     "metadata": {},
     "output_type": "execute_result"
    }
   ],
   "source": [
    "df = pd.merge(Employee, Employee, left_on='ManagerId', right_on='Id', suffixes=['_employee', '_manager'])\n",
    "df[df['Salary_employee'] > df['Salary_manager']]['Name_employee']"
   ]
  }
 ],
 "metadata": {
  "kernelspec": {
   "display_name": "Python 3",
   "language": "python",
   "name": "python3"
  },
  "language_info": {
   "codemirror_mode": {
    "name": "ipython",
    "version": 3
   },
   "file_extension": ".py",
   "mimetype": "text/x-python",
   "name": "python",
   "nbconvert_exporter": "python",
   "pygments_lexer": "ipython3",
   "version": "3.8.5"
  }
 },
 "nbformat": 4,
 "nbformat_minor": 4
}

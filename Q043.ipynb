{
 "cells": [
  {
   "cell_type": "code",
   "execution_count": null,
   "metadata": {},
   "outputs": [],
   "source": [
    "\"\"\"\n",
    "update all to_date with value '9999-01-01' to NULL,\n",
    "and from_date to '2001-01-01'\n",
    "\"\"\""
   ]
  },
  {
   "cell_type": "code",
   "execution_count": null,
   "metadata": {},
   "outputs": [],
   "source": [
    "\"\"\"SQL table creation and data insertion\"\"\"\n",
    "CREATE TABLE IF NOT EXISTS titles_test (\n",
    "id int(11) not null primary key,\n",
    "emp_no int(11) NOT NULL,\n",
    "title varchar(50) NOT NULL,\n",
    "from_date date NOT NULL,\n",
    "to_date date DEFAULT NULL);\n",
    "\n",
    "insert into titles_test values ('1', '10001', 'Senior Engineer', '1986-06-26', '9999-01-01'),\n",
    "('2', '10002', 'Staff', '1996-08-03', '9999-01-01'),\n",
    "('3', '10003', 'Senior Engineer', '1995-12-03', '9999-01-01'),\n",
    "('4', '10004', 'Senior Engineer', '1995-12-03', '9999-01-01'),\n",
    "('5', '10001', 'Senior Engineer', '1986-06-26', '9999-01-01'),\n",
    "('6', '10002', 'Staff', '1996-08-03', '9999-01-01'),\n",
    "('7', '10003', 'Senior Engineer', '1995-12-03', '9999-01-01');"
   ]
  },
  {
   "cell_type": "code",
   "execution_count": null,
   "metadata": {},
   "outputs": [],
   "source": [
    "\"\"\"SQL solution\"\"\"\n",
    "UPDATE title_test\n",
    "SET to_date = NULL,\n",
    "    from_date = '2001-01-01'\n",
    "WHERE to_date = '9999-01-01'"
   ]
  },
  {
   "cell_type": "code",
   "execution_count": 1,
   "metadata": {},
   "outputs": [
    {
     "data": {
      "text/html": [
       "<div>\n",
       "<style scoped>\n",
       "    .dataframe tbody tr th:only-of-type {\n",
       "        vertical-align: middle;\n",
       "    }\n",
       "\n",
       "    .dataframe tbody tr th {\n",
       "        vertical-align: top;\n",
       "    }\n",
       "\n",
       "    .dataframe thead th {\n",
       "        text-align: right;\n",
       "    }\n",
       "</style>\n",
       "<table border=\"1\" class=\"dataframe\">\n",
       "  <thead>\n",
       "    <tr style=\"text-align: right;\">\n",
       "      <th></th>\n",
       "      <th>id</th>\n",
       "      <th>emp_no</th>\n",
       "      <th>title</th>\n",
       "      <th>from_date</th>\n",
       "      <th>to_date</th>\n",
       "    </tr>\n",
       "  </thead>\n",
       "  <tbody>\n",
       "    <tr>\n",
       "      <th>0</th>\n",
       "      <td>1</td>\n",
       "      <td>10001</td>\n",
       "      <td>Senior Engineer</td>\n",
       "      <td>1986-06-26</td>\n",
       "      <td>9999-01-01</td>\n",
       "    </tr>\n",
       "    <tr>\n",
       "      <th>1</th>\n",
       "      <td>2</td>\n",
       "      <td>10002</td>\n",
       "      <td>Staff</td>\n",
       "      <td>1996-08-03</td>\n",
       "      <td>9999-01-01</td>\n",
       "    </tr>\n",
       "    <tr>\n",
       "      <th>2</th>\n",
       "      <td>3</td>\n",
       "      <td>10003</td>\n",
       "      <td>Senior Engineer</td>\n",
       "      <td>1995-12-03</td>\n",
       "      <td>9999-01-01</td>\n",
       "    </tr>\n",
       "    <tr>\n",
       "      <th>3</th>\n",
       "      <td>4</td>\n",
       "      <td>10004</td>\n",
       "      <td>Senior Engineer</td>\n",
       "      <td>1995-12-03</td>\n",
       "      <td>9999-01-01</td>\n",
       "    </tr>\n",
       "    <tr>\n",
       "      <th>4</th>\n",
       "      <td>5</td>\n",
       "      <td>10001</td>\n",
       "      <td>Senior Engineer</td>\n",
       "      <td>1986-06-26</td>\n",
       "      <td>9999-01-01</td>\n",
       "    </tr>\n",
       "  </tbody>\n",
       "</table>\n",
       "</div>"
      ],
      "text/plain": [
       "  id emp_no            title   from_date     to_date\n",
       "0  1  10001  Senior Engineer  1986-06-26  9999-01-01\n",
       "1  2  10002            Staff  1996-08-03  9999-01-01\n",
       "2  3  10003  Senior Engineer  1995-12-03  9999-01-01\n",
       "3  4  10004  Senior Engineer  1995-12-03  9999-01-01\n",
       "4  5  10001  Senior Engineer  1986-06-26  9999-01-01"
      ]
     },
     "execution_count": 1,
     "metadata": {},
     "output_type": "execute_result"
    }
   ],
   "source": [
    "\"\"\"pandas datafrmame creation\"\"\"\n",
    "import numpy as np\n",
    "import pandas as pd\n",
    "\n",
    "tt = np.array([['1', '10001', 'Senior Engineer', '1986-06-26', '9999-01-01'],\n",
    "               ['2', '10002', 'Staff', '1996-08-03', '9999-01-01'],\n",
    "               ['3', '10003', 'Senior Engineer', '1995-12-03', '9999-01-01'],\n",
    "               ['4', '10004', 'Senior Engineer', '1995-12-03', '9999-01-01'],\n",
    "               ['5', '10001', 'Senior Engineer', '1986-06-26', '9999-01-01'],\n",
    "               ['6', '10002', 'Staff', '1996-08-03', '9999-01-01'],\n",
    "               ['7', '10003', 'Senior Engineer', '1995-12-03', '9999-01-01']])\n",
    "titles_test = pd.DataFrame(data=tt, columns=['id', 'emp_no', 'title', 'from_date', 'to_date'])\n",
    "titles_test.head()"
   ]
  },
  {
   "cell_type": "code",
   "execution_count": 19,
   "metadata": {},
   "outputs": [],
   "source": [
    "titles_test.loc[titles_test['to_date'] == '9999-01-01', ['from_date', 'to_date']] = ['2001-01-01', 'NULL']\n"
   ]
  }
 ],
 "metadata": {
  "kernelspec": {
   "display_name": "Python 3",
   "language": "python",
   "name": "python3"
  },
  "language_info": {
   "codemirror_mode": {
    "name": "ipython",
    "version": 3
   },
   "file_extension": ".py",
   "mimetype": "text/x-python",
   "name": "python",
   "nbconvert_exporter": "python",
   "pygments_lexer": "ipython3",
   "version": "3.8.3"
  }
 },
 "nbformat": 4,
 "nbformat_minor": 4
}

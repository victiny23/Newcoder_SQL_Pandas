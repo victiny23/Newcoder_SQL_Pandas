{
 "cells": [
  {
   "cell_type": "code",
   "execution_count": null,
   "metadata": {},
   "outputs": [],
   "source": [
    "\"\"\"\n",
    "Rising Temperature\n",
    "\n",
    "Table: Weather\n",
    "+---------------+---------+\n",
    "| Column Name   | Type    |\n",
    "+---------------+---------+\n",
    "| id            | int     |\n",
    "| recordDate    | date    |\n",
    "| temperature   | int     |\n",
    "+---------------+---------+\n",
    "id is the primary key for this table.\n",
    "This table contains information about the temperature in a certain day.\n",
    " \n",
    "\n",
    "Write an SQL query to find all dates' id with higher temperature compared to its previous dates (yesterday).\n",
    "\n",
    "Return the result table in any order.\n",
    "\"\"\""
   ]
  },
  {
   "cell_type": "code",
   "execution_count": null,
   "metadata": {},
   "outputs": [],
   "source": [
    "\"\"\"testcase\"\"\"\n",
    "{\"headers\": {\"Weather\": [\"Id\", \"RecordDate\", \"Temperature\"]}, \n",
    " \"rows\": {\"Weather\": [[1, \"2014-12-31\", 10], [2, \"2015-01-01\", 25], [3, \"2015-01-03\", 20], [4, \"2015-01-04\", 30]]}}"
   ]
  },
  {
   "cell_type": "code",
   "execution_count": null,
   "metadata": {},
   "outputs": [],
   "source": [
    "\"\"\"SQL table creation and data insertion\"\"\"\n",
    "DROP TABLE IF EXISTS Weather;\n",
    "\n",
    "CREATE TABLE Weather(\n",
    "id int(4) NOT NULL,\n",
    "recordDate DATE NOT NULL,\n",
    "temperature int(4) NOT NULL,\n",
    "PRIMARY KEY ('id'));\n",
    "\n",
    "INSERT INTO Weather VALUES\n",
    "(1, \"2014-12-31\", 10),\n",
    "(2, \"2015-01-01\", 25),\n",
    "(3, \"2015-01-03\", 20),\n",
    "(4, \"2015-01-04\", 30);"
   ]
  },
  {
   "cell_type": "code",
   "execution_count": null,
   "metadata": {},
   "outputs": [],
   "source": [
    "\"\"\"SQL solution\"\"\"\n",
    "# 1 298 ms\n",
    "SELECT a.id\n",
    "FROM Weather AS a\n",
    "INNER JOIN Weather AS b\n",
    "ON DATE_SUB(a.recordDate, INTERVAL 1 DAY) = b.recordDate\n",
    "AND a.Temperature > b.Temperature\n",
    "\n",
    "# 2 329 ms\n",
    "SELECT a.id\n",
    "FROM Weather AS a\n",
    "INNER JOIN Weather AS b\n",
    "ON TO_DAYS(a.recordDate) - 1 = TO_DAYS(b.recordDate)\n",
    "AND a.Temperature > b.Temperature\n",
    "\n",
    "# 3 467 ms\n",
    "SELECT a.id\n",
    "FROM Weather AS a\n",
    "INNER JOIN Weather AS b\n",
    "ON DATEDIFF(a.recordDate, b.recordDate) = 1\n",
    "AND a.Temperature > b.Temperature\n",
    "\n",
    "# a.recordDate - 1 = b.recordDate wont' work\n",
    "# because '2014-12-31' + 1 => 20141232 not 20150101 !!!"
   ]
  },
  {
   "cell_type": "code",
   "execution_count": 30,
   "metadata": {},
   "outputs": [
    {
     "data": {
      "text/html": [
       "<div>\n",
       "<style scoped>\n",
       "    .dataframe tbody tr th:only-of-type {\n",
       "        vertical-align: middle;\n",
       "    }\n",
       "\n",
       "    .dataframe tbody tr th {\n",
       "        vertical-align: top;\n",
       "    }\n",
       "\n",
       "    .dataframe thead th {\n",
       "        text-align: right;\n",
       "    }\n",
       "</style>\n",
       "<table border=\"1\" class=\"dataframe\">\n",
       "  <thead>\n",
       "    <tr style=\"text-align: right;\">\n",
       "      <th></th>\n",
       "      <th>id</th>\n",
       "      <th>recordDate</th>\n",
       "      <th>temperature</th>\n",
       "    </tr>\n",
       "  </thead>\n",
       "  <tbody>\n",
       "    <tr>\n",
       "      <th>0</th>\n",
       "      <td>1</td>\n",
       "      <td>2014-12-31</td>\n",
       "      <td>10</td>\n",
       "    </tr>\n",
       "    <tr>\n",
       "      <th>1</th>\n",
       "      <td>2</td>\n",
       "      <td>2015-01-01</td>\n",
       "      <td>25</td>\n",
       "    </tr>\n",
       "    <tr>\n",
       "      <th>2</th>\n",
       "      <td>3</td>\n",
       "      <td>2015-01-04</td>\n",
       "      <td>20</td>\n",
       "    </tr>\n",
       "    <tr>\n",
       "      <th>3</th>\n",
       "      <td>4</td>\n",
       "      <td>2015-01-05</td>\n",
       "      <td>30</td>\n",
       "    </tr>\n",
       "  </tbody>\n",
       "</table>\n",
       "</div>"
      ],
      "text/plain": [
       "   id recordDate  temperature\n",
       "0   1 2014-12-31           10\n",
       "1   2 2015-01-01           25\n",
       "2   3 2015-01-04           20\n",
       "3   4 2015-01-05           30"
      ]
     },
     "execution_count": 30,
     "metadata": {},
     "output_type": "execute_result"
    }
   ],
   "source": [
    "\"\"\"pandas dataframe creation\"\"\"\n",
    "import pandas as pd\n",
    "\n",
    "w = [(1, \"2014-12-31\", 10),\n",
    "(2, \"2015-01-01\", 25),\n",
    "(3, \"2015-01-04\", 20),\n",
    "(4, \"2015-01-05\", 30),]\n",
    "\n",
    "Weather = pd.DataFrame(w, columns=['id', 'recordDate', 'temperature'])\n",
    "Weather.recordDate = pd.to_datetime(Weather['recordDate'])\n",
    "Weather.head()"
   ]
  },
  {
   "cell_type": "code",
   "execution_count": 31,
   "metadata": {},
   "outputs": [
    {
     "data": {
      "text/html": [
       "<div>\n",
       "<style scoped>\n",
       "    .dataframe tbody tr th:only-of-type {\n",
       "        vertical-align: middle;\n",
       "    }\n",
       "\n",
       "    .dataframe tbody tr th {\n",
       "        vertical-align: top;\n",
       "    }\n",
       "\n",
       "    .dataframe thead th {\n",
       "        text-align: right;\n",
       "    }\n",
       "</style>\n",
       "<table border=\"1\" class=\"dataframe\">\n",
       "  <thead>\n",
       "    <tr style=\"text-align: right;\">\n",
       "      <th></th>\n",
       "      <th>id</th>\n",
       "      <th>recordDate</th>\n",
       "      <th>temperature</th>\n",
       "    </tr>\n",
       "  </thead>\n",
       "  <tbody>\n",
       "    <tr>\n",
       "      <th>0</th>\n",
       "      <td>1</td>\n",
       "      <td>2015-01-01</td>\n",
       "      <td>10</td>\n",
       "    </tr>\n",
       "    <tr>\n",
       "      <th>1</th>\n",
       "      <td>2</td>\n",
       "      <td>2015-01-02</td>\n",
       "      <td>25</td>\n",
       "    </tr>\n",
       "    <tr>\n",
       "      <th>2</th>\n",
       "      <td>3</td>\n",
       "      <td>2015-01-05</td>\n",
       "      <td>20</td>\n",
       "    </tr>\n",
       "    <tr>\n",
       "      <th>3</th>\n",
       "      <td>4</td>\n",
       "      <td>2015-01-06</td>\n",
       "      <td>30</td>\n",
       "    </tr>\n",
       "  </tbody>\n",
       "</table>\n",
       "</div>"
      ],
      "text/plain": [
       "   id recordDate  temperature\n",
       "0   1 2015-01-01           10\n",
       "1   2 2015-01-02           25\n",
       "2   3 2015-01-05           20\n",
       "3   4 2015-01-06           30"
      ]
     },
     "execution_count": 31,
     "metadata": {},
     "output_type": "execute_result"
    }
   ],
   "source": [
    "Weather2 = Weather.copy()\n",
    "Weather2['recordDate'] = Weather2['recordDate'] + pd.DateOffset(1)\n",
    "Weather2"
   ]
  },
  {
   "cell_type": "code",
   "execution_count": 32,
   "metadata": {},
   "outputs": [
    {
     "data": {
      "text/plain": [
       "0    2\n",
       "1    4\n",
       "Name: id_today, dtype: int64"
      ]
     },
     "execution_count": 32,
     "metadata": {},
     "output_type": "execute_result"
    }
   ],
   "source": [
    "df = pd.merge(Weather, Weather2, on='recordDate', suffixes=['_today', '_yesterday'])\n",
    "df[df['temperature_today'] > df['temperature_yesterday']]['id_today']"
   ]
  }
 ],
 "metadata": {
  "kernelspec": {
   "display_name": "Python 3",
   "language": "python",
   "name": "python3"
  },
  "language_info": {
   "codemirror_mode": {
    "name": "ipython",
    "version": 3
   },
   "file_extension": ".py",
   "mimetype": "text/x-python",
   "name": "python",
   "nbconvert_exporter": "python",
   "pygments_lexer": "ipython3",
   "version": "3.8.3"
  }
 },
 "nbformat": 4,
 "nbformat_minor": 4
}

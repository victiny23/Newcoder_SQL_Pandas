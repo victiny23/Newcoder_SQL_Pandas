{
 "cells": [
  {
   "cell_type": "code",
   "execution_count": null,
   "metadata": {},
   "outputs": [],
   "source": [
    "\"\"\"Find titles and descriptions for all movies catogorized as Action films\"\"\""
   ]
  },
  {
   "cell_type": "code",
   "execution_count": null,
   "metadata": {},
   "outputs": [],
   "source": [
    "\"\"\"SQL table creation and data insertion\"\"\"\n",
    "drop table if exists   film ;\n",
    "drop table if exists  category  ; \n",
    "drop table if exists  film_category  ; \n",
    "CREATE TABLE IF NOT EXISTS film (\n",
    "  film_id smallint(5)  NOT NULL DEFAULT '0',\n",
    "  title varchar(255) NOT NULL,\n",
    "  description text,\n",
    "  PRIMARY KEY (film_id));\n",
    "CREATE TABLE category  (\n",
    "   category_id  tinyint(3)  NOT NULL ,\n",
    "   name  varchar(25) NOT NULL, `last_update` timestamp,\n",
    "  PRIMARY KEY ( category_id ));\n",
    "CREATE TABLE film_category  (\n",
    "   film_id  smallint(5)  NOT NULL,\n",
    "   category_id  tinyint(3)  NOT NULL, `last_update` timestamp);\n",
    "INSERT INTO film VALUES(1,'ACADEMY DINOSAUR','A Epic Drama of a Feminist And a Mad Scientist who must Battle a Teacher in The Canadian Rockies');\n",
    "INSERT INTO film VALUES(2,'ACE GOLDFINGER','A Astounding Epistle of a Database Administrator And a Explorer who must Find a Car in Ancient China');\n",
    "INSERT INTO film VALUES(3,'ADAPTATION HOLES','A Astounding Reflection of a Lumberjack And a Car who must Sink a Lumberjack in A Baloon Factory');\n",
    "\n",
    "INSERT INTO category VALUES(1,'Action','2006-02-14 20:46:27');\n",
    "INSERT INTO category VALUES(2,'Animation','2006-02-14 20:46:27');\n",
    "INSERT INTO category VALUES(3,'Children','2006-02-14 20:46:27');\n",
    "INSERT INTO category VALUES(4,'Classics','2006-02-14 20:46:27');\n",
    "INSERT INTO category VALUES(5,'Comedy','2006-02-14 20:46:27');\n",
    "INSERT INTO category VALUES(6,'Documentary','2006-02-14 20:46:27');\n",
    "\n",
    "INSERT INTO film_category VALUES(1,1,'2006-02-14 21:07:09');\n",
    "INSERT INTO film_category VALUES(2,1,'2006-02-14 21:07:09');\n",
    "INSERT INTO film_category VALUES(3,6,'2006-02-14 21:07:09');"
   ]
  },
  {
   "cell_type": "code",
   "execution_count": null,
   "metadata": {},
   "outputs": [],
   "source": [
    "\"\"\"SQL solution\"\"\"\n",
    "# 1\n",
    "SELECT title, description\n",
    "FROM film\n",
    "WHERE film_id IN\n",
    "(SELECT film_id\n",
    "FROM film_category\n",
    "WHERE category_id = (SELECT category_id FROM category WHERE name = 'Action'))\n",
    "\n",
    "# 2\n",
    "SELECT f.title, f.description\n",
    "FROM film AS f\n",
    "INNER JOIN film_category AS fc\n",
    "ON f.film_id = fc.film_id\n",
    "WHERE fc.category_id = (SELECT category_id FROM category WHERE name = 'Action')"
   ]
  },
  {
   "cell_type": "code",
   "execution_count": 4,
   "metadata": {},
   "outputs": [
    {
     "name": "stdout",
     "output_type": "stream",
     "text": [
      "film_id        object\n",
      "title          object\n",
      "description    object\n",
      "dtype: object\n",
      "category_id    object\n",
      "name           object\n",
      "last_update    object\n",
      "dtype: object\n",
      "film_id        object\n",
      "category_id    object\n",
      "last_update    object\n",
      "dtype: object\n"
     ]
    },
    {
     "data": {
      "text/html": [
       "<div>\n",
       "<style scoped>\n",
       "    .dataframe tbody tr th:only-of-type {\n",
       "        vertical-align: middle;\n",
       "    }\n",
       "\n",
       "    .dataframe tbody tr th {\n",
       "        vertical-align: top;\n",
       "    }\n",
       "\n",
       "    .dataframe thead th {\n",
       "        text-align: right;\n",
       "    }\n",
       "</style>\n",
       "<table border=\"1\" class=\"dataframe\">\n",
       "  <thead>\n",
       "    <tr style=\"text-align: right;\">\n",
       "      <th></th>\n",
       "      <th>film_id</th>\n",
       "      <th>title</th>\n",
       "      <th>description</th>\n",
       "    </tr>\n",
       "  </thead>\n",
       "  <tbody>\n",
       "    <tr>\n",
       "      <th>0</th>\n",
       "      <td>1</td>\n",
       "      <td>ACADEMY DINOSAUR</td>\n",
       "      <td>A Epic Drama of a Feminist And a Mad Scientist...</td>\n",
       "    </tr>\n",
       "    <tr>\n",
       "      <th>1</th>\n",
       "      <td>2</td>\n",
       "      <td>ACE GOLDFINGER</td>\n",
       "      <td>A Astounding Epistle of a Database Administrat...</td>\n",
       "    </tr>\n",
       "    <tr>\n",
       "      <th>2</th>\n",
       "      <td>3</td>\n",
       "      <td>ADAPTATION HOLES</td>\n",
       "      <td>A Astounding Reflection of a Lumberjack And a ...</td>\n",
       "    </tr>\n",
       "  </tbody>\n",
       "</table>\n",
       "</div>"
      ],
      "text/plain": [
       "  film_id             title                                        description\n",
       "0       1  ACADEMY DINOSAUR  A Epic Drama of a Feminist And a Mad Scientist...\n",
       "1       2    ACE GOLDFINGER  A Astounding Epistle of a Database Administrat...\n",
       "2       3  ADAPTATION HOLES  A Astounding Reflection of a Lumberjack And a ..."
      ]
     },
     "execution_count": 4,
     "metadata": {},
     "output_type": "execute_result"
    }
   ],
   "source": [
    "\"\"\"pandas dataframe creation\"\"\"\n",
    "import numpy as np\n",
    "import pandas as pd\n",
    "\n",
    "tf = np.array([[1,'ACADEMY DINOSAUR','A Epic Drama of a Feminist And a Mad Scientist who must Battle a Teacher in The Canadian Rockies'],\n",
    "               [2,'ACE GOLDFINGER','A Astounding Epistle of a Database Administrator And a Explorer who must Find a Car in Ancient China'],\n",
    "               [3,'ADAPTATION HOLES','A Astounding Reflection of a Lumberjack And a Car who must Sink a Lumberjack in A Baloon Factory']])\n",
    "tc = np.array([[1,'Action','2006-02-14 20:46:27'],\n",
    "               [2,'Animation','2006-02-14 20:46:27'],\n",
    "               [3,'Children','2006-02-14 20:46:27'],\n",
    "               [4,'Classics','2006-02-14 20:46:27'],\n",
    "               [5,'Comedy','2006-02-14 20:46:27'],\n",
    "               [6,'Documentary','2006-02-14 20:46:27']])\n",
    "tfc = np.array([[1,1,'2006-02-14 21:07:09'],\n",
    "                [2,1,'2006-02-14 21:07:09'],\n",
    "                [3,6,'2006-02-14 21:07:09']])\n",
    "film = pd.DataFrame(data=tf, columns=['film_id', 'title', 'description'])\n",
    "print(film.dtypes)\n",
    "category = pd.DataFrame(data=tc, columns=['category_id', 'name', 'last_update'])\n",
    "print(category.dtypes)\n",
    "film_category = pd.DataFrame(data=tfc, columns=['film_id', 'category_id', 'last_update'])\n",
    "print(film_category.dtypes)\n",
    "film.head()"
   ]
  },
  {
   "cell_type": "code",
   "execution_count": 2,
   "metadata": {},
   "outputs": [
    {
     "data": {
      "text/html": [
       "<div>\n",
       "<style scoped>\n",
       "    .dataframe tbody tr th:only-of-type {\n",
       "        vertical-align: middle;\n",
       "    }\n",
       "\n",
       "    .dataframe tbody tr th {\n",
       "        vertical-align: top;\n",
       "    }\n",
       "\n",
       "    .dataframe thead th {\n",
       "        text-align: right;\n",
       "    }\n",
       "</style>\n",
       "<table border=\"1\" class=\"dataframe\">\n",
       "  <thead>\n",
       "    <tr style=\"text-align: right;\">\n",
       "      <th></th>\n",
       "      <th>category_id</th>\n",
       "      <th>name</th>\n",
       "      <th>last_update</th>\n",
       "    </tr>\n",
       "  </thead>\n",
       "  <tbody>\n",
       "    <tr>\n",
       "      <th>0</th>\n",
       "      <td>1</td>\n",
       "      <td>Action</td>\n",
       "      <td>2006-02-14 20:46:27</td>\n",
       "    </tr>\n",
       "    <tr>\n",
       "      <th>1</th>\n",
       "      <td>2</td>\n",
       "      <td>Animation</td>\n",
       "      <td>2006-02-14 20:46:27</td>\n",
       "    </tr>\n",
       "    <tr>\n",
       "      <th>2</th>\n",
       "      <td>3</td>\n",
       "      <td>Children</td>\n",
       "      <td>2006-02-14 20:46:27</td>\n",
       "    </tr>\n",
       "    <tr>\n",
       "      <th>3</th>\n",
       "      <td>4</td>\n",
       "      <td>Classics</td>\n",
       "      <td>2006-02-14 20:46:27</td>\n",
       "    </tr>\n",
       "    <tr>\n",
       "      <th>4</th>\n",
       "      <td>5</td>\n",
       "      <td>Comedy</td>\n",
       "      <td>2006-02-14 20:46:27</td>\n",
       "    </tr>\n",
       "  </tbody>\n",
       "</table>\n",
       "</div>"
      ],
      "text/plain": [
       "  category_id       name          last_update\n",
       "0           1     Action  2006-02-14 20:46:27\n",
       "1           2  Animation  2006-02-14 20:46:27\n",
       "2           3   Children  2006-02-14 20:46:27\n",
       "3           4   Classics  2006-02-14 20:46:27\n",
       "4           5     Comedy  2006-02-14 20:46:27"
      ]
     },
     "execution_count": 2,
     "metadata": {},
     "output_type": "execute_result"
    }
   ],
   "source": [
    "category.head()"
   ]
  },
  {
   "cell_type": "code",
   "execution_count": 5,
   "metadata": {},
   "outputs": [
    {
     "data": {
      "text/html": [
       "<div>\n",
       "<style scoped>\n",
       "    .dataframe tbody tr th:only-of-type {\n",
       "        vertical-align: middle;\n",
       "    }\n",
       "\n",
       "    .dataframe tbody tr th {\n",
       "        vertical-align: top;\n",
       "    }\n",
       "\n",
       "    .dataframe thead th {\n",
       "        text-align: right;\n",
       "    }\n",
       "</style>\n",
       "<table border=\"1\" class=\"dataframe\">\n",
       "  <thead>\n",
       "    <tr style=\"text-align: right;\">\n",
       "      <th></th>\n",
       "      <th>film_id</th>\n",
       "      <th>category_id</th>\n",
       "      <th>last_update</th>\n",
       "    </tr>\n",
       "  </thead>\n",
       "  <tbody>\n",
       "    <tr>\n",
       "      <th>0</th>\n",
       "      <td>1</td>\n",
       "      <td>1</td>\n",
       "      <td>2006-02-14 21:07:09</td>\n",
       "    </tr>\n",
       "    <tr>\n",
       "      <th>1</th>\n",
       "      <td>2</td>\n",
       "      <td>1</td>\n",
       "      <td>2006-02-14 21:07:09</td>\n",
       "    </tr>\n",
       "    <tr>\n",
       "      <th>2</th>\n",
       "      <td>3</td>\n",
       "      <td>6</td>\n",
       "      <td>2006-02-14 21:07:09</td>\n",
       "    </tr>\n",
       "  </tbody>\n",
       "</table>\n",
       "</div>"
      ],
      "text/plain": [
       "  film_id category_id          last_update\n",
       "0       1           1  2006-02-14 21:07:09\n",
       "1       2           1  2006-02-14 21:07:09\n",
       "2       3           6  2006-02-14 21:07:09"
      ]
     },
     "execution_count": 5,
     "metadata": {},
     "output_type": "execute_result"
    }
   ],
   "source": [
    "film_category.head()"
   ]
  },
  {
   "cell_type": "code",
   "execution_count": 11,
   "metadata": {},
   "outputs": [
    {
     "data": {
      "text/html": [
       "<div>\n",
       "<style scoped>\n",
       "    .dataframe tbody tr th:only-of-type {\n",
       "        vertical-align: middle;\n",
       "    }\n",
       "\n",
       "    .dataframe tbody tr th {\n",
       "        vertical-align: top;\n",
       "    }\n",
       "\n",
       "    .dataframe thead th {\n",
       "        text-align: right;\n",
       "    }\n",
       "</style>\n",
       "<table border=\"1\" class=\"dataframe\">\n",
       "  <thead>\n",
       "    <tr style=\"text-align: right;\">\n",
       "      <th></th>\n",
       "      <th>title</th>\n",
       "      <th>description</th>\n",
       "    </tr>\n",
       "  </thead>\n",
       "  <tbody>\n",
       "    <tr>\n",
       "      <th>0</th>\n",
       "      <td>ACADEMY DINOSAUR</td>\n",
       "      <td>A Epic Drama of a Feminist And a Mad Scientist...</td>\n",
       "    </tr>\n",
       "    <tr>\n",
       "      <th>1</th>\n",
       "      <td>ACE GOLDFINGER</td>\n",
       "      <td>A Astounding Epistle of a Database Administrat...</td>\n",
       "    </tr>\n",
       "  </tbody>\n",
       "</table>\n",
       "</div>"
      ],
      "text/plain": [
       "              title                                        description\n",
       "0  ACADEMY DINOSAUR  A Epic Drama of a Feminist And a Mad Scientist...\n",
       "1    ACE GOLDFINGER  A Astounding Epistle of a Database Administrat..."
      ]
     },
     "execution_count": 11,
     "metadata": {},
     "output_type": "execute_result"
    }
   ],
   "source": [
    "df = pd.merge(film, film_category[['film_id', 'category_id']], on='film_id', how='inner')\n",
    "df = pd.merge(df, category[['category_id', 'name']], on='category_id', how='inner')\n",
    "df[df['name'] == 'Action'][['title', 'description']]"
   ]
  }
 ],
 "metadata": {
  "kernelspec": {
   "display_name": "Python 3",
   "language": "python",
   "name": "python3"
  },
  "language_info": {
   "codemirror_mode": {
    "name": "ipython",
    "version": 3
   },
   "file_extension": ".py",
   "mimetype": "text/x-python",
   "name": "python",
   "nbconvert_exporter": "python",
   "pygments_lexer": "ipython3",
   "version": "3.8.3"
  }
 },
 "nbformat": 4,
 "nbformat_minor": 4
}
